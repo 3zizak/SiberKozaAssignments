{
 "cells": [
  {
   "cell_type": "code",
   "execution_count": 1,
   "id": "c65f947d",
   "metadata": {
    "_cell_guid": "b1076dfc-b9ad-4769-8c92-a6c4dae69d19",
    "_uuid": "8f2839f25d086af736a60e9eeb907d3b93b6e0e5",
    "execution": {
     "iopub.execute_input": "2023-01-28T11:09:02.810870Z",
     "iopub.status.busy": "2023-01-28T11:09:02.809815Z",
     "iopub.status.idle": "2023-01-28T11:09:02.838153Z",
     "shell.execute_reply": "2023-01-28T11:09:02.836787Z"
    },
    "papermill": {
     "duration": 0.049516,
     "end_time": "2023-01-28T11:09:02.841555",
     "exception": false,
     "start_time": "2023-01-28T11:09:02.792039",
     "status": "completed"
    },
    "tags": []
   },
   "outputs": [
    {
     "name": "stdout",
     "output_type": "stream",
     "text": [
      "/kaggle/input/fifa-world-cup-2022-complete-dataset/Fifa_world_cup_matches.csv\n"
     ]
    }
   ],
   "source": [
    "# This Python 3 environment comes with many helpful analytics libraries installed\n",
    "# It is defined by the kaggle/python Docker image: https://github.com/kaggle/docker-python\n",
    "# For example, here's several helpful packages to load\n",
    "\n",
    "import numpy as np # linear algebra\n",
    "import pandas as pd # data processing, CSV file I/O (e.g. pd.read_csv)\n",
    "\n",
    "# Input data files are available in the read-only \"../input/\" directory\n",
    "# For example, running this (by clicking run or pressing Shift+Enter) will list all files under the input directory\n",
    "\n",
    "import os\n",
    "for dirname, _, filenames in os.walk('/kaggle/input'):\n",
    "    for filename in filenames:\n",
    "        print(os.path.join(dirname, filename))\n",
    "\n",
    "# You can write up to 20GB to the current directory (/kaggle/working/) that gets preserved as output when you create a version using \"Save & Run All\" \n",
    "# You can also write temporary files to /kaggle/temp/, but they won't be saved outside of the current session"
   ]
  },
  {
   "cell_type": "code",
   "execution_count": 2,
   "id": "67d23bf2",
   "metadata": {
    "execution": {
     "iopub.execute_input": "2023-01-28T11:09:02.869848Z",
     "iopub.status.busy": "2023-01-28T11:09:02.869327Z",
     "iopub.status.idle": "2023-01-28T11:09:04.058339Z",
     "shell.execute_reply": "2023-01-28T11:09:04.056935Z"
    },
    "papermill": {
     "duration": 1.206732,
     "end_time": "2023-01-28T11:09:04.061665",
     "exception": false,
     "start_time": "2023-01-28T11:09:02.854933",
     "status": "completed"
    },
    "tags": []
   },
   "outputs": [],
   "source": [
    "import pandas as pd\n",
    "import numpy as np\n",
    "import matplotlib.pyplot as plt\n",
    "import seaborn as sns\n",
    "%matplotlib inline\n",
    "sns.set()"
   ]
  },
  {
   "cell_type": "code",
   "execution_count": 3,
   "id": "1289b1ab",
   "metadata": {
    "execution": {
     "iopub.execute_input": "2023-01-28T11:09:04.093027Z",
     "iopub.status.busy": "2023-01-28T11:09:04.091857Z",
     "iopub.status.idle": "2023-01-28T11:09:04.113189Z",
     "shell.execute_reply": "2023-01-28T11:09:04.111979Z"
    },
    "papermill": {
     "duration": 0.039121,
     "end_time": "2023-01-28T11:09:04.116372",
     "exception": false,
     "start_time": "2023-01-28T11:09:04.077251",
     "status": "completed"
    },
    "tags": []
   },
   "outputs": [],
   "source": [
    "df=pd.read_csv('/kaggle/input/fifa-world-cup-2022-complete-dataset/Fifa_world_cup_matches.csv')"
   ]
  },
  {
   "cell_type": "code",
   "execution_count": 4,
   "id": "b83ccd67",
   "metadata": {
    "execution": {
     "iopub.execute_input": "2023-01-28T11:09:04.144755Z",
     "iopub.status.busy": "2023-01-28T11:09:04.144263Z",
     "iopub.status.idle": "2023-01-28T11:09:04.177650Z",
     "shell.execute_reply": "2023-01-28T11:09:04.176726Z"
    },
    "papermill": {
     "duration": 0.050787,
     "end_time": "2023-01-28T11:09:04.180311",
     "exception": false,
     "start_time": "2023-01-28T11:09:04.129524",
     "status": "completed"
    },
    "tags": []
   },
   "outputs": [
    {
     "data": {
      "text/html": [
       "<div>\n",
       "<style scoped>\n",
       "    .dataframe tbody tr th:only-of-type {\n",
       "        vertical-align: middle;\n",
       "    }\n",
       "\n",
       "    .dataframe tbody tr th {\n",
       "        vertical-align: top;\n",
       "    }\n",
       "\n",
       "    .dataframe thead th {\n",
       "        text-align: right;\n",
       "    }\n",
       "</style>\n",
       "<table border=\"1\" class=\"dataframe\">\n",
       "  <thead>\n",
       "    <tr style=\"text-align: right;\">\n",
       "      <th></th>\n",
       "      <th>team1</th>\n",
       "      <th>team2</th>\n",
       "      <th>possession team1</th>\n",
       "      <th>possession team2</th>\n",
       "      <th>possession in contest</th>\n",
       "      <th>number of goals team1</th>\n",
       "      <th>number of goals team2</th>\n",
       "      <th>date</th>\n",
       "      <th>hour</th>\n",
       "      <th>category</th>\n",
       "      <th>...</th>\n",
       "      <th>penalties scored team1</th>\n",
       "      <th>penalties scored team2</th>\n",
       "      <th>goal preventions team1</th>\n",
       "      <th>goal preventions team2</th>\n",
       "      <th>own goals team1</th>\n",
       "      <th>own goals team2</th>\n",
       "      <th>forced turnovers team1</th>\n",
       "      <th>forced turnovers team2</th>\n",
       "      <th>defensive pressures applied team1</th>\n",
       "      <th>defensive pressures applied team2</th>\n",
       "    </tr>\n",
       "  </thead>\n",
       "  <tbody>\n",
       "    <tr>\n",
       "      <th>0</th>\n",
       "      <td>QATAR</td>\n",
       "      <td>ECUADOR</td>\n",
       "      <td>42%</td>\n",
       "      <td>50%</td>\n",
       "      <td>8%</td>\n",
       "      <td>0</td>\n",
       "      <td>2</td>\n",
       "      <td>20 NOV 2022</td>\n",
       "      <td>17 : 00</td>\n",
       "      <td>Group A</td>\n",
       "      <td>...</td>\n",
       "      <td>0</td>\n",
       "      <td>1</td>\n",
       "      <td>6</td>\n",
       "      <td>5</td>\n",
       "      <td>0</td>\n",
       "      <td>0</td>\n",
       "      <td>52</td>\n",
       "      <td>72</td>\n",
       "      <td>256</td>\n",
       "      <td>279</td>\n",
       "    </tr>\n",
       "    <tr>\n",
       "      <th>1</th>\n",
       "      <td>ENGLAND</td>\n",
       "      <td>IRAN</td>\n",
       "      <td>72%</td>\n",
       "      <td>19%</td>\n",
       "      <td>9%</td>\n",
       "      <td>6</td>\n",
       "      <td>2</td>\n",
       "      <td>21 NOV 2022</td>\n",
       "      <td>14 : 00</td>\n",
       "      <td>Group B</td>\n",
       "      <td>...</td>\n",
       "      <td>0</td>\n",
       "      <td>1</td>\n",
       "      <td>8</td>\n",
       "      <td>13</td>\n",
       "      <td>0</td>\n",
       "      <td>0</td>\n",
       "      <td>63</td>\n",
       "      <td>72</td>\n",
       "      <td>139</td>\n",
       "      <td>416</td>\n",
       "    </tr>\n",
       "    <tr>\n",
       "      <th>2</th>\n",
       "      <td>SENEGAL</td>\n",
       "      <td>NETHERLANDS</td>\n",
       "      <td>44%</td>\n",
       "      <td>45%</td>\n",
       "      <td>11%</td>\n",
       "      <td>0</td>\n",
       "      <td>2</td>\n",
       "      <td>21 NOV 2022</td>\n",
       "      <td>17 : 00</td>\n",
       "      <td>Group A</td>\n",
       "      <td>...</td>\n",
       "      <td>0</td>\n",
       "      <td>0</td>\n",
       "      <td>9</td>\n",
       "      <td>15</td>\n",
       "      <td>0</td>\n",
       "      <td>0</td>\n",
       "      <td>63</td>\n",
       "      <td>73</td>\n",
       "      <td>263</td>\n",
       "      <td>251</td>\n",
       "    </tr>\n",
       "    <tr>\n",
       "      <th>3</th>\n",
       "      <td>UNITED STATES</td>\n",
       "      <td>WALES</td>\n",
       "      <td>51%</td>\n",
       "      <td>39%</td>\n",
       "      <td>10%</td>\n",
       "      <td>1</td>\n",
       "      <td>1</td>\n",
       "      <td>21 NOV 2022</td>\n",
       "      <td>20 : 00</td>\n",
       "      <td>Group B</td>\n",
       "      <td>...</td>\n",
       "      <td>0</td>\n",
       "      <td>1</td>\n",
       "      <td>7</td>\n",
       "      <td>7</td>\n",
       "      <td>0</td>\n",
       "      <td>0</td>\n",
       "      <td>81</td>\n",
       "      <td>72</td>\n",
       "      <td>242</td>\n",
       "      <td>292</td>\n",
       "    </tr>\n",
       "    <tr>\n",
       "      <th>4</th>\n",
       "      <td>ARGENTINA</td>\n",
       "      <td>SAUDI ARABIA</td>\n",
       "      <td>64%</td>\n",
       "      <td>24%</td>\n",
       "      <td>12%</td>\n",
       "      <td>1</td>\n",
       "      <td>2</td>\n",
       "      <td>22 NOV 2022</td>\n",
       "      <td>11 : 00</td>\n",
       "      <td>Group C</td>\n",
       "      <td>...</td>\n",
       "      <td>1</td>\n",
       "      <td>0</td>\n",
       "      <td>4</td>\n",
       "      <td>14</td>\n",
       "      <td>0</td>\n",
       "      <td>0</td>\n",
       "      <td>65</td>\n",
       "      <td>80</td>\n",
       "      <td>163</td>\n",
       "      <td>361</td>\n",
       "    </tr>\n",
       "  </tbody>\n",
       "</table>\n",
       "<p>5 rows × 88 columns</p>\n",
       "</div>"
      ],
      "text/plain": [
       "           team1         team2 possession team1 possession team2  \\\n",
       "0          QATAR       ECUADOR              42%              50%   \n",
       "1        ENGLAND          IRAN              72%              19%   \n",
       "2        SENEGAL   NETHERLANDS              44%              45%   \n",
       "3  UNITED STATES         WALES              51%              39%   \n",
       "4      ARGENTINA  SAUDI ARABIA              64%              24%   \n",
       "\n",
       "  possession in contest  number of goals team1  number of goals team2  \\\n",
       "0                    8%                      0                      2   \n",
       "1                    9%                      6                      2   \n",
       "2                   11%                      0                      2   \n",
       "3                   10%                      1                      1   \n",
       "4                   12%                      1                      2   \n",
       "\n",
       "          date     hour category  ...  penalties scored team1  \\\n",
       "0  20 NOV 2022  17 : 00  Group A  ...                       0   \n",
       "1  21 NOV 2022  14 : 00  Group B  ...                       0   \n",
       "2  21 NOV 2022  17 : 00  Group A  ...                       0   \n",
       "3  21 NOV 2022  20 : 00  Group B  ...                       0   \n",
       "4  22 NOV 2022  11 : 00  Group C  ...                       1   \n",
       "\n",
       "   penalties scored team2  goal preventions team1  goal preventions team2  \\\n",
       "0                       1                       6                       5   \n",
       "1                       1                       8                      13   \n",
       "2                       0                       9                      15   \n",
       "3                       1                       7                       7   \n",
       "4                       0                       4                      14   \n",
       "\n",
       "   own goals team1  own goals team2  forced turnovers team1  \\\n",
       "0                0                0                      52   \n",
       "1                0                0                      63   \n",
       "2                0                0                      63   \n",
       "3                0                0                      81   \n",
       "4                0                0                      65   \n",
       "\n",
       "   forced turnovers team2  defensive pressures applied team1  \\\n",
       "0                      72                                256   \n",
       "1                      72                                139   \n",
       "2                      73                                263   \n",
       "3                      72                                242   \n",
       "4                      80                                163   \n",
       "\n",
       "   defensive pressures applied team2  \n",
       "0                                279  \n",
       "1                                416  \n",
       "2                                251  \n",
       "3                                292  \n",
       "4                                361  \n",
       "\n",
       "[5 rows x 88 columns]"
      ]
     },
     "execution_count": 4,
     "metadata": {},
     "output_type": "execute_result"
    }
   ],
   "source": [
    "df.head(5)"
   ]
  },
  {
   "cell_type": "code",
   "execution_count": 5,
   "id": "01341100",
   "metadata": {
    "execution": {
     "iopub.execute_input": "2023-01-28T11:09:04.209793Z",
     "iopub.status.busy": "2023-01-28T11:09:04.209256Z",
     "iopub.status.idle": "2023-01-28T11:09:04.242465Z",
     "shell.execute_reply": "2023-01-28T11:09:04.240198Z"
    },
    "papermill": {
     "duration": 0.051446,
     "end_time": "2023-01-28T11:09:04.245631",
     "exception": false,
     "start_time": "2023-01-28T11:09:04.194185",
     "status": "completed"
    },
    "tags": []
   },
   "outputs": [
    {
     "name": "stdout",
     "output_type": "stream",
     "text": [
      "<class 'pandas.core.frame.DataFrame'>\n",
      "RangeIndex: 64 entries, 0 to 63\n",
      "Data columns (total 88 columns):\n",
      " #   Column                                                 Non-Null Count  Dtype \n",
      "---  ------                                                 --------------  ----- \n",
      " 0   team1                                                  64 non-null     object\n",
      " 1   team2                                                  64 non-null     object\n",
      " 2   possession team1                                       64 non-null     object\n",
      " 3   possession team2                                       64 non-null     object\n",
      " 4   possession in contest                                  64 non-null     object\n",
      " 5   number of goals team1                                  64 non-null     int64 \n",
      " 6   number of goals team2                                  64 non-null     int64 \n",
      " 7   date                                                   64 non-null     object\n",
      " 8   hour                                                   64 non-null     object\n",
      " 9   category                                               64 non-null     object\n",
      " 10  total attempts team1                                   64 non-null     int64 \n",
      " 11  total attempts team2                                   64 non-null     int64 \n",
      " 12  conceded team1                                         64 non-null     int64 \n",
      " 13  conceded team2                                         64 non-null     int64 \n",
      " 14  goal inside the penalty area team1                     64 non-null     int64 \n",
      " 15  goal inside the penalty area team2                     64 non-null     int64 \n",
      " 16  goal outside the penalty area team1                    64 non-null     int64 \n",
      " 17  goal outside the penalty area team2                    64 non-null     int64 \n",
      " 18  assists team1                                          64 non-null     int64 \n",
      " 19  assists team2                                          64 non-null     int64 \n",
      " 20  on target attempts team1                               64 non-null     int64 \n",
      " 21  on target attempts team2                               64 non-null     int64 \n",
      " 22  off target attempts team1                              64 non-null     int64 \n",
      " 23  off target attempts team2                              64 non-null     int64 \n",
      " 24  attempts inside the penalty area team1                 64 non-null     int64 \n",
      " 25  attempts inside the penalty area  team2                64 non-null     int64 \n",
      " 26  attempts outside the penalty area  team1               64 non-null     int64 \n",
      " 27  attempts outside the penalty area  team2               64 non-null     int64 \n",
      " 28  left channel team1                                     64 non-null     int64 \n",
      " 29  left channel team2                                     64 non-null     int64 \n",
      " 30  left inside channel team1                              64 non-null     int64 \n",
      " 31  left inside channel team2                              64 non-null     int64 \n",
      " 32  central channel team1                                  64 non-null     int64 \n",
      " 33  central channel team2                                  64 non-null     int64 \n",
      " 34  right inside channel team1                             64 non-null     int64 \n",
      " 35  right inside channel team2                             64 non-null     int64 \n",
      " 36  right channel team1                                    64 non-null     int64 \n",
      " 37  right channel team2                                    64 non-null     int64 \n",
      " 38  total offers to receive team1                          64 non-null     int64 \n",
      " 39  total offers to receive team2                          64 non-null     int64 \n",
      " 40  inbehind offers to receive team1                       64 non-null     int64 \n",
      " 41  inbehind offers to receive team2                       64 non-null     int64 \n",
      " 42  inbetween offers to receive team1                      64 non-null     int64 \n",
      " 43  inbetween offers to receive team2                      64 non-null     int64 \n",
      " 44  infront offers to receive team1                        64 non-null     int64 \n",
      " 45  infront offers to receive team2                        64 non-null     int64 \n",
      " 46  receptions between midfield and defensive lines team1  64 non-null     int64 \n",
      " 47  receptions between midfield and defensive lines team2  64 non-null     int64 \n",
      " 48  attempted line breaks team1                            64 non-null     int64 \n",
      " 49  attempted line breaks team2                            64 non-null     int64 \n",
      " 50  completed line breaksteam1                             64 non-null     int64 \n",
      " 51  completed line breaks team2                            64 non-null     int64 \n",
      " 52  attempted defensive line breaks team1                  64 non-null     int64 \n",
      " 53  attempted defensive line breaks team2                  64 non-null     int64 \n",
      " 54  completed defensive line breaksteam1                   64 non-null     int64 \n",
      " 55  completed defensive line breaks team2                  64 non-null     int64 \n",
      " 56  yellow cards team1                                     64 non-null     int64 \n",
      " 57  yellow cards team2                                     64 non-null     int64 \n",
      " 58  red cards team1                                        64 non-null     int64 \n",
      " 59  red cards team2                                        64 non-null     int64 \n",
      " 60  fouls against team1                                    64 non-null     int64 \n",
      " 61  fouls against team2                                    64 non-null     int64 \n",
      " 62  offsides team1                                         64 non-null     int64 \n",
      " 63  offsides team2                                         64 non-null     int64 \n",
      " 64  passes team1                                           64 non-null     int64 \n",
      " 65  passes team2                                           64 non-null     int64 \n",
      " 66  passes completed team1                                 64 non-null     int64 \n",
      " 67  passes completed team2                                 64 non-null     int64 \n",
      " 68  crosses team1                                          64 non-null     int64 \n",
      " 69  crosses team2                                          64 non-null     int64 \n",
      " 70  crosses completed team1                                64 non-null     int64 \n",
      " 71  crosses completed team2                                64 non-null     int64 \n",
      " 72  switches of play completed team1                       64 non-null     int64 \n",
      " 73  switches of play completed team2                       64 non-null     int64 \n",
      " 74  corners team1                                          64 non-null     int64 \n",
      " 75  corners team2                                          64 non-null     int64 \n",
      " 76  free kicks team1                                       64 non-null     int64 \n",
      " 77  free kicks team2                                       64 non-null     int64 \n",
      " 78  penalties scored team1                                 64 non-null     int64 \n",
      " 79  penalties scored team2                                 64 non-null     int64 \n",
      " 80  goal preventions team1                                 64 non-null     int64 \n",
      " 81  goal preventions team2                                 64 non-null     int64 \n",
      " 82  own goals team1                                        64 non-null     int64 \n",
      " 83  own goals team2                                        64 non-null     int64 \n",
      " 84  forced turnovers team1                                 64 non-null     int64 \n",
      " 85  forced turnovers team2                                 64 non-null     int64 \n",
      " 86  defensive pressures applied team1                      64 non-null     int64 \n",
      " 87  defensive pressures applied team2                      64 non-null     int64 \n",
      "dtypes: int64(80), object(8)\n",
      "memory usage: 44.1+ KB\n"
     ]
    }
   ],
   "source": [
    "df.info()"
   ]
  },
  {
   "cell_type": "markdown",
   "id": "4bb4328a",
   "metadata": {
    "execution": {
     "iopub.execute_input": "2023-01-28T08:13:44.919837Z",
     "iopub.status.busy": "2023-01-28T08:13:44.919445Z",
     "iopub.status.idle": "2023-01-28T08:13:44.924879Z",
     "shell.execute_reply": "2023-01-28T08:13:44.923667Z",
     "shell.execute_reply.started": "2023-01-28T08:13:44.919802Z"
    },
    "papermill": {
     "duration": 0.013484,
     "end_time": "2023-01-28T11:09:04.273278",
     "exception": false,
     "start_time": "2023-01-28T11:09:04.259794",
     "status": "completed"
    },
    "tags": []
   },
   "source": [
    "## Check if any value is missing"
   ]
  },
  {
   "cell_type": "code",
   "execution_count": 6,
   "id": "e13847b1",
   "metadata": {
    "execution": {
     "iopub.execute_input": "2023-01-28T11:09:04.303244Z",
     "iopub.status.busy": "2023-01-28T11:09:04.302485Z",
     "iopub.status.idle": "2023-01-28T11:09:04.307649Z",
     "shell.execute_reply": "2023-01-28T11:09:04.306628Z"
    },
    "papermill": {
     "duration": 0.023343,
     "end_time": "2023-01-28T11:09:04.310565",
     "exception": false,
     "start_time": "2023-01-28T11:09:04.287222",
     "status": "completed"
    },
    "tags": []
   },
   "outputs": [],
   "source": [
    "t=df.columns"
   ]
  },
  {
   "cell_type": "code",
   "execution_count": 7,
   "id": "88c7c0a0",
   "metadata": {
    "execution": {
     "iopub.execute_input": "2023-01-28T11:09:04.340409Z",
     "iopub.status.busy": "2023-01-28T11:09:04.339897Z",
     "iopub.status.idle": "2023-01-28T11:09:04.365365Z",
     "shell.execute_reply": "2023-01-28T11:09:04.364466Z"
    },
    "papermill": {
     "duration": 0.04558,
     "end_time": "2023-01-28T11:09:04.370118",
     "exception": false,
     "start_time": "2023-01-28T11:09:04.324538",
     "status": "completed"
    },
    "tags": []
   },
   "outputs": [
    {
     "name": "stdout",
     "output_type": "stream",
     "text": [
      "team1  0\n",
      "team2  0\n",
      "possession team1  0\n",
      "possession team2  0\n",
      "possession in contest  0\n",
      "number of goals team1  0\n",
      "number of goals team2  0\n",
      "date  0\n",
      "hour  0\n",
      "category  0\n",
      "total attempts team1  0\n",
      "total attempts team2  0\n",
      "conceded team1  0\n",
      "conceded team2  0\n",
      "goal inside the penalty area team1  0\n",
      "goal inside the penalty area team2  0\n",
      "goal outside the penalty area team1  0\n",
      "goal outside the penalty area team2  0\n",
      "assists team1  0\n",
      "assists team2  0\n",
      "on target attempts team1  0\n",
      "on target attempts team2  0\n",
      "off target attempts team1  0\n",
      "off target attempts team2  0\n",
      "attempts inside the penalty area team1  0\n",
      "attempts inside the penalty area  team2  0\n",
      "attempts outside the penalty area  team1  0\n",
      "attempts outside the penalty area  team2  0\n",
      "left channel team1  0\n",
      "left channel team2  0\n",
      "left inside channel team1  0\n",
      "left inside channel team2  0\n",
      "central channel team1  0\n",
      "central channel team2  0\n",
      "right inside channel team1  0\n",
      "right inside channel team2  0\n",
      "right channel team1  0\n",
      "right channel team2  0\n",
      "total offers to receive team1  0\n",
      "total offers to receive team2  0\n",
      "inbehind offers to receive team1  0\n",
      "inbehind offers to receive team2  0\n",
      "inbetween offers to receive team1  0\n",
      "inbetween offers to receive team2  0\n",
      "infront offers to receive team1  0\n",
      "infront offers to receive team2  0\n",
      "receptions between midfield and defensive lines team1  0\n",
      "receptions between midfield and defensive lines team2  0\n",
      "attempted line breaks team1  0\n",
      "attempted line breaks team2  0\n",
      "completed line breaksteam1  0\n",
      "completed line breaks team2  0\n",
      "attempted defensive line breaks team1  0\n",
      "attempted defensive line breaks team2  0\n",
      "completed defensive line breaksteam1  0\n",
      "completed defensive line breaks team2  0\n",
      "yellow cards team1  0\n",
      "yellow cards team2  0\n",
      "red cards team1  0\n",
      "red cards team2  0\n",
      "fouls against team1  0\n",
      "fouls against team2  0\n",
      "offsides team1  0\n",
      "offsides team2  0\n",
      "passes team1  0\n",
      "passes team2  0\n",
      "passes completed team1  0\n",
      "passes completed team2  0\n",
      "crosses team1  0\n",
      "crosses team2  0\n",
      "crosses completed team1  0\n",
      "crosses completed team2  0\n",
      "switches of play completed team1  0\n",
      "switches of play completed team2  0\n",
      "corners team1  0\n",
      "corners team2  0\n",
      "free kicks team1  0\n",
      "free kicks team2  0\n",
      "penalties scored team1  0\n",
      "penalties scored team2  0\n",
      "goal preventions team1  0\n",
      "goal preventions team2  0\n",
      "own goals team1  0\n",
      "own goals team2  0\n",
      "forced turnovers team1  0\n",
      "forced turnovers team2  0\n",
      "defensive pressures applied team1  0\n",
      "defensive pressures applied team2  0\n"
     ]
    }
   ],
   "source": [
    "for i in t:\n",
    "    print(i + ' ',df.loc[:,i].isna().sum())"
   ]
  },
  {
   "cell_type": "code",
   "execution_count": 8,
   "id": "d08fd699",
   "metadata": {
    "execution": {
     "iopub.execute_input": "2023-01-28T11:09:04.401713Z",
     "iopub.status.busy": "2023-01-28T11:09:04.400784Z",
     "iopub.status.idle": "2023-01-28T11:09:04.410170Z",
     "shell.execute_reply": "2023-01-28T11:09:04.408844Z"
    },
    "papermill": {
     "duration": 0.028013,
     "end_time": "2023-01-28T11:09:04.412870",
     "exception": false,
     "start_time": "2023-01-28T11:09:04.384857",
     "status": "completed"
    },
    "tags": []
   },
   "outputs": [
    {
     "data": {
      "text/plain": [
       "Index(['team1', 'team2', 'possession team1', 'possession team2',\n",
       "       'possession in contest', 'number of goals team1',\n",
       "       'number of goals team2', 'date', 'hour', 'category',\n",
       "       'total attempts team1', 'total attempts team2', 'conceded team1',\n",
       "       'conceded team2', 'goal inside the penalty area team1',\n",
       "       'goal inside the penalty area team2',\n",
       "       'goal outside the penalty area team1',\n",
       "       'goal outside the penalty area team2', 'assists team1', 'assists team2',\n",
       "       'on target attempts team1', 'on target attempts team2',\n",
       "       'off target attempts team1', 'off target attempts team2',\n",
       "       'attempts inside the penalty area team1',\n",
       "       'attempts inside the penalty area  team2',\n",
       "       'attempts outside the penalty area  team1',\n",
       "       'attempts outside the penalty area  team2', 'left channel team1',\n",
       "       'left channel team2', 'left inside channel team1',\n",
       "       'left inside channel team2', 'central channel team1',\n",
       "       'central channel team2', 'right inside channel team1',\n",
       "       'right inside channel team2', 'right channel team1',\n",
       "       'right channel team2', 'total offers to receive team1',\n",
       "       'total offers to receive team2', 'inbehind offers to receive team1',\n",
       "       'inbehind offers to receive team2', 'inbetween offers to receive team1',\n",
       "       'inbetween offers to receive team2', 'infront offers to receive team1',\n",
       "       'infront offers to receive team2',\n",
       "       'receptions between midfield and defensive lines team1',\n",
       "       'receptions between midfield and defensive lines team2',\n",
       "       'attempted line breaks team1', 'attempted line breaks team2',\n",
       "       'completed line breaksteam1', 'completed line breaks team2',\n",
       "       'attempted defensive line breaks team1',\n",
       "       'attempted defensive line breaks team2',\n",
       "       'completed defensive line breaksteam1',\n",
       "       'completed defensive line breaks team2', 'yellow cards team1',\n",
       "       'yellow cards team2', 'red cards team1', 'red cards team2',\n",
       "       'fouls against team1', 'fouls against team2', 'offsides team1',\n",
       "       'offsides team2', 'passes team1', 'passes team2',\n",
       "       'passes completed team1', 'passes completed team2', 'crosses team1',\n",
       "       'crosses team2', 'crosses completed team1', 'crosses completed team2',\n",
       "       'switches of play completed team1', 'switches of play completed team2',\n",
       "       'corners team1', 'corners team2', 'free kicks team1',\n",
       "       'free kicks team2', 'penalties scored team1', 'penalties scored team2',\n",
       "       'goal preventions team1', 'goal preventions team2', 'own goals team1',\n",
       "       'own goals team2', 'forced turnovers team1', 'forced turnovers team2',\n",
       "       'defensive pressures applied team1',\n",
       "       'defensive pressures applied team2'],\n",
       "      dtype='object')"
      ]
     },
     "execution_count": 8,
     "metadata": {},
     "output_type": "execute_result"
    }
   ],
   "source": [
    "df.columns"
   ]
  },
  {
   "cell_type": "code",
   "execution_count": 9,
   "id": "ff052045",
   "metadata": {
    "execution": {
     "iopub.execute_input": "2023-01-28T11:09:04.444864Z",
     "iopub.status.busy": "2023-01-28T11:09:04.443894Z",
     "iopub.status.idle": "2023-01-28T11:09:04.463330Z",
     "shell.execute_reply": "2023-01-28T11:09:04.462015Z"
    },
    "papermill": {
     "duration": 0.038944,
     "end_time": "2023-01-28T11:09:04.466608",
     "exception": false,
     "start_time": "2023-01-28T11:09:04.427664",
     "status": "completed"
    },
    "tags": []
   },
   "outputs": [
    {
     "data": {
      "text/html": [
       "<div>\n",
       "<style scoped>\n",
       "    .dataframe tbody tr th:only-of-type {\n",
       "        vertical-align: middle;\n",
       "    }\n",
       "\n",
       "    .dataframe tbody tr th {\n",
       "        vertical-align: top;\n",
       "    }\n",
       "\n",
       "    .dataframe thead th {\n",
       "        text-align: right;\n",
       "    }\n",
       "</style>\n",
       "<table border=\"1\" class=\"dataframe\">\n",
       "  <thead>\n",
       "    <tr style=\"text-align: right;\">\n",
       "      <th></th>\n",
       "      <th>team1</th>\n",
       "      <th>team2</th>\n",
       "      <th>number of goals team1</th>\n",
       "      <th>number of goals team2</th>\n",
       "      <th>goal inside the penalty area team1</th>\n",
       "      <th>goal inside the penalty area team2</th>\n",
       "      <th>goal outside the penalty area team1</th>\n",
       "      <th>goal outside the penalty area team2</th>\n",
       "    </tr>\n",
       "  </thead>\n",
       "  <tbody>\n",
       "    <tr>\n",
       "      <th>0</th>\n",
       "      <td>QATAR</td>\n",
       "      <td>ECUADOR</td>\n",
       "      <td>0</td>\n",
       "      <td>2</td>\n",
       "      <td>0</td>\n",
       "      <td>2</td>\n",
       "      <td>0</td>\n",
       "      <td>0</td>\n",
       "    </tr>\n",
       "    <tr>\n",
       "      <th>1</th>\n",
       "      <td>ENGLAND</td>\n",
       "      <td>IRAN</td>\n",
       "      <td>6</td>\n",
       "      <td>2</td>\n",
       "      <td>6</td>\n",
       "      <td>2</td>\n",
       "      <td>0</td>\n",
       "      <td>0</td>\n",
       "    </tr>\n",
       "    <tr>\n",
       "      <th>2</th>\n",
       "      <td>SENEGAL</td>\n",
       "      <td>NETHERLANDS</td>\n",
       "      <td>0</td>\n",
       "      <td>2</td>\n",
       "      <td>0</td>\n",
       "      <td>2</td>\n",
       "      <td>0</td>\n",
       "      <td>0</td>\n",
       "    </tr>\n",
       "    <tr>\n",
       "      <th>3</th>\n",
       "      <td>UNITED STATES</td>\n",
       "      <td>WALES</td>\n",
       "      <td>1</td>\n",
       "      <td>1</td>\n",
       "      <td>1</td>\n",
       "      <td>1</td>\n",
       "      <td>0</td>\n",
       "      <td>0</td>\n",
       "    </tr>\n",
       "    <tr>\n",
       "      <th>4</th>\n",
       "      <td>ARGENTINA</td>\n",
       "      <td>SAUDI ARABIA</td>\n",
       "      <td>1</td>\n",
       "      <td>2</td>\n",
       "      <td>1</td>\n",
       "      <td>2</td>\n",
       "      <td>0</td>\n",
       "      <td>0</td>\n",
       "    </tr>\n",
       "    <tr>\n",
       "      <th>...</th>\n",
       "      <td>...</td>\n",
       "      <td>...</td>\n",
       "      <td>...</td>\n",
       "      <td>...</td>\n",
       "      <td>...</td>\n",
       "      <td>...</td>\n",
       "      <td>...</td>\n",
       "      <td>...</td>\n",
       "    </tr>\n",
       "    <tr>\n",
       "      <th>59</th>\n",
       "      <td>ENGLAND</td>\n",
       "      <td>FRANCE</td>\n",
       "      <td>1</td>\n",
       "      <td>2</td>\n",
       "      <td>1</td>\n",
       "      <td>1</td>\n",
       "      <td>0</td>\n",
       "      <td>1</td>\n",
       "    </tr>\n",
       "    <tr>\n",
       "      <th>60</th>\n",
       "      <td>ARGENTINA</td>\n",
       "      <td>CROATIA</td>\n",
       "      <td>3</td>\n",
       "      <td>0</td>\n",
       "      <td>3</td>\n",
       "      <td>0</td>\n",
       "      <td>0</td>\n",
       "      <td>0</td>\n",
       "    </tr>\n",
       "    <tr>\n",
       "      <th>61</th>\n",
       "      <td>FRANCE</td>\n",
       "      <td>MOROCCO</td>\n",
       "      <td>2</td>\n",
       "      <td>0</td>\n",
       "      <td>2</td>\n",
       "      <td>0</td>\n",
       "      <td>0</td>\n",
       "      <td>0</td>\n",
       "    </tr>\n",
       "    <tr>\n",
       "      <th>62</th>\n",
       "      <td>CROATIA</td>\n",
       "      <td>MOROCCO</td>\n",
       "      <td>2</td>\n",
       "      <td>1</td>\n",
       "      <td>2</td>\n",
       "      <td>1</td>\n",
       "      <td>0</td>\n",
       "      <td>0</td>\n",
       "    </tr>\n",
       "    <tr>\n",
       "      <th>63</th>\n",
       "      <td>ARGENTINA</td>\n",
       "      <td>FRANCE</td>\n",
       "      <td>3</td>\n",
       "      <td>3</td>\n",
       "      <td>3</td>\n",
       "      <td>3</td>\n",
       "      <td>0</td>\n",
       "      <td>0</td>\n",
       "    </tr>\n",
       "  </tbody>\n",
       "</table>\n",
       "<p>64 rows × 8 columns</p>\n",
       "</div>"
      ],
      "text/plain": [
       "            team1         team2  number of goals team1  number of goals team2  \\\n",
       "0           QATAR       ECUADOR                      0                      2   \n",
       "1         ENGLAND          IRAN                      6                      2   \n",
       "2         SENEGAL   NETHERLANDS                      0                      2   \n",
       "3   UNITED STATES         WALES                      1                      1   \n",
       "4       ARGENTINA  SAUDI ARABIA                      1                      2   \n",
       "..            ...           ...                    ...                    ...   \n",
       "59        ENGLAND        FRANCE                      1                      2   \n",
       "60      ARGENTINA       CROATIA                      3                      0   \n",
       "61         FRANCE       MOROCCO                      2                      0   \n",
       "62        CROATIA       MOROCCO                      2                      1   \n",
       "63      ARGENTINA        FRANCE                      3                      3   \n",
       "\n",
       "    goal inside the penalty area team1  goal inside the penalty area team2  \\\n",
       "0                                    0                                   2   \n",
       "1                                    6                                   2   \n",
       "2                                    0                                   2   \n",
       "3                                    1                                   1   \n",
       "4                                    1                                   2   \n",
       "..                                 ...                                 ...   \n",
       "59                                   1                                   1   \n",
       "60                                   3                                   0   \n",
       "61                                   2                                   0   \n",
       "62                                   2                                   1   \n",
       "63                                   3                                   3   \n",
       "\n",
       "    goal outside the penalty area team1  goal outside the penalty area team2  \n",
       "0                                     0                                    0  \n",
       "1                                     0                                    0  \n",
       "2                                     0                                    0  \n",
       "3                                     0                                    0  \n",
       "4                                     0                                    0  \n",
       "..                                  ...                                  ...  \n",
       "59                                    0                                    1  \n",
       "60                                    0                                    0  \n",
       "61                                    0                                    0  \n",
       "62                                    0                                    0  \n",
       "63                                    0                                    0  \n",
       "\n",
       "[64 rows x 8 columns]"
      ]
     },
     "execution_count": 9,
     "metadata": {},
     "output_type": "execute_result"
    }
   ],
   "source": [
    "df[['team1', 'team2','number of goals team1','number of goals team2','goal inside the penalty area team1',\n",
    "    'goal inside the penalty area team2','goal outside the penalty area team1','goal outside the penalty area team2']]"
   ]
  },
  {
   "cell_type": "markdown",
   "id": "55f90a5b",
   "metadata": {
    "papermill": {
     "duration": 0.020025,
     "end_time": "2023-01-28T11:09:04.501856",
     "exception": false,
     "start_time": "2023-01-28T11:09:04.481831",
     "status": "completed"
    },
    "tags": []
   },
   "source": [
    "## The sum of ‘score’ for each team"
   ]
  },
  {
   "cell_type": "code",
   "execution_count": 10,
   "id": "623838b0",
   "metadata": {
    "execution": {
     "iopub.execute_input": "2023-01-28T11:09:04.540395Z",
     "iopub.status.busy": "2023-01-28T11:09:04.539038Z",
     "iopub.status.idle": "2023-01-28T11:09:04.554489Z",
     "shell.execute_reply": "2023-01-28T11:09:04.552830Z"
    },
    "papermill": {
     "duration": 0.038761,
     "end_time": "2023-01-28T11:09:04.558679",
     "exception": false,
     "start_time": "2023-01-28T11:09:04.519918",
     "status": "completed"
    },
    "tags": []
   },
   "outputs": [
    {
     "data": {
      "text/plain": [
       "team1\n",
       "ARGENTINA         11\n",
       "AUSTRALIA          1\n",
       "BELGIUM            1\n",
       "BRAZIL             7\n",
       "CAMEROON           4\n",
       "CANADA             1\n",
       "COSTA RICA         2\n",
       "CROATIA            7\n",
       "DENMARK            0\n",
       "ECUADOR            1\n",
       "ENGLAND           10\n",
       "FRANCE            11\n",
       "GERMANY            1\n",
       "GHANA              0\n",
       "IRAN               0\n",
       "JAPAN              3\n",
       "KOREA REPUBLIC     4\n",
       "MEXICO             0\n",
       "MOROCCO            1\n",
       "NETHERLANDS        8\n",
       "POLAND             2\n",
       "PORTUGAL          11\n",
       "QATAR              1\n",
       "SAUDI ARABIA       1\n",
       "SENEGAL            0\n",
       "SERBIA             2\n",
       "SPAIN              8\n",
       "SWITZERLAND        1\n",
       "TUNISIA            1\n",
       "UNITED STATES      1\n",
       "URUGUAY            0\n",
       "WALES              0\n",
       "Name: number of goals team1, dtype: int64"
      ]
     },
     "execution_count": 10,
     "metadata": {},
     "output_type": "execute_result"
    }
   ],
   "source": [
    "part1=df.groupby('team1')['number of goals team1'].sum()\n",
    "part1"
   ]
  },
  {
   "cell_type": "code",
   "execution_count": 11,
   "id": "ec3a7671",
   "metadata": {
    "execution": {
     "iopub.execute_input": "2023-01-28T11:09:04.600959Z",
     "iopub.status.busy": "2023-01-28T11:09:04.600049Z",
     "iopub.status.idle": "2023-01-28T11:09:04.609950Z",
     "shell.execute_reply": "2023-01-28T11:09:04.609053Z"
    },
    "papermill": {
     "duration": 0.036472,
     "end_time": "2023-01-28T11:09:04.612565",
     "exception": false,
     "start_time": "2023-01-28T11:09:04.576093",
     "status": "completed"
    },
    "tags": []
   },
   "outputs": [
    {
     "data": {
      "text/plain": [
       "team2\n",
       "ARGENTINA         4\n",
       "AUSTRALIA         3\n",
       "BELGIUM           0\n",
       "BRAZIL            1\n",
       "CAMEROON          0\n",
       "CANADA            1\n",
       "COSTA RICA        1\n",
       "CROATIA           1\n",
       "DENMARK           1\n",
       "ECUADOR           3\n",
       "ENGLAND           3\n",
       "FRANCE            5\n",
       "GERMANY           5\n",
       "GHANA             5\n",
       "IRAN              4\n",
       "JAPAN             2\n",
       "KOREA REPUBLIC    1\n",
       "MEXICO            2\n",
       "MOROCCO           5\n",
       "NETHERLANDS       2\n",
       "POLAND            1\n",
       "PORTUGAL          1\n",
       "QATAR             0\n",
       "SAUDI ARABIA      2\n",
       "SENEGAL           5\n",
       "SERBIA            3\n",
       "SPAIN             1\n",
       "SWITZERLAND       4\n",
       "TUNISIA           0\n",
       "UNITED STATES     2\n",
       "URUGUAY           2\n",
       "WALES             1\n",
       "Name: number of goals team2, dtype: int64"
      ]
     },
     "execution_count": 11,
     "metadata": {},
     "output_type": "execute_result"
    }
   ],
   "source": [
    "part2=df.groupby('team2')['number of goals team2'].sum()\n",
    "part2"
   ]
  },
  {
   "cell_type": "code",
   "execution_count": 12,
   "id": "a62f9e1b",
   "metadata": {
    "execution": {
     "iopub.execute_input": "2023-01-28T11:09:04.644497Z",
     "iopub.status.busy": "2023-01-28T11:09:04.643636Z",
     "iopub.status.idle": "2023-01-28T11:09:04.653353Z",
     "shell.execute_reply": "2023-01-28T11:09:04.652174Z"
    },
    "papermill": {
     "duration": 0.029068,
     "end_time": "2023-01-28T11:09:04.656361",
     "exception": false,
     "start_time": "2023-01-28T11:09:04.627293",
     "status": "completed"
    },
    "tags": []
   },
   "outputs": [
    {
     "data": {
      "text/plain": [
       "team1\n",
       "FRANCE            16\n",
       "ARGENTINA         15\n",
       "ENGLAND           13\n",
       "PORTUGAL          12\n",
       "NETHERLANDS       10\n",
       "SPAIN              9\n",
       "BRAZIL             8\n",
       "CROATIA            8\n",
       "GERMANY            6\n",
       "MOROCCO            6\n",
       "JAPAN              5\n",
       "SWITZERLAND        5\n",
       "SERBIA             5\n",
       "SENEGAL            5\n",
       "KOREA REPUBLIC     5\n",
       "GHANA              5\n",
       "IRAN               4\n",
       "AUSTRALIA          4\n",
       "ECUADOR            4\n",
       "CAMEROON           4\n",
       "UNITED STATES      3\n",
       "COSTA RICA         3\n",
       "SAUDI ARABIA       3\n",
       "POLAND             3\n",
       "CANADA             2\n",
       "MEXICO             2\n",
       "URUGUAY            2\n",
       "QATAR              1\n",
       "DENMARK            1\n",
       "BELGIUM            1\n",
       "TUNISIA            1\n",
       "WALES              1\n",
       "dtype: int64"
      ]
     },
     "execution_count": 12,
     "metadata": {},
     "output_type": "execute_result"
    }
   ],
   "source": [
    "total=part1+part2\n",
    "total.sort_values(ascending=False)"
   ]
  },
  {
   "cell_type": "markdown",
   "id": "fa55d50b",
   "metadata": {
    "papermill": {
     "duration": 0.01416,
     "end_time": "2023-01-28T11:09:04.685333",
     "exception": false,
     "start_time": "2023-01-28T11:09:04.671173",
     "status": "completed"
    },
    "tags": []
   },
   "source": [
    "## The sum of 'score' inside the penalty area for each team"
   ]
  },
  {
   "cell_type": "code",
   "execution_count": 13,
   "id": "ea46d6fa",
   "metadata": {
    "execution": {
     "iopub.execute_input": "2023-01-28T11:09:04.717684Z",
     "iopub.status.busy": "2023-01-28T11:09:04.716881Z",
     "iopub.status.idle": "2023-01-28T11:09:04.724259Z",
     "shell.execute_reply": "2023-01-28T11:09:04.723277Z"
    },
    "papermill": {
     "duration": 0.027101,
     "end_time": "2023-01-28T11:09:04.727235",
     "exception": false,
     "start_time": "2023-01-28T11:09:04.700134",
     "status": "completed"
    },
    "tags": []
   },
   "outputs": [],
   "source": [
    "inside1=df.groupby('team1')['goal inside the penalty area team1'].sum()"
   ]
  },
  {
   "cell_type": "code",
   "execution_count": 14,
   "id": "230ae4ec",
   "metadata": {
    "execution": {
     "iopub.execute_input": "2023-01-28T11:09:04.759502Z",
     "iopub.status.busy": "2023-01-28T11:09:04.759031Z",
     "iopub.status.idle": "2023-01-28T11:09:04.765897Z",
     "shell.execute_reply": "2023-01-28T11:09:04.764679Z"
    },
    "papermill": {
     "duration": 0.026473,
     "end_time": "2023-01-28T11:09:04.768621",
     "exception": false,
     "start_time": "2023-01-28T11:09:04.742148",
     "status": "completed"
    },
    "tags": []
   },
   "outputs": [],
   "source": [
    "inside2=df.groupby('team2')['goal inside the penalty area team2'].sum()"
   ]
  },
  {
   "cell_type": "code",
   "execution_count": 15,
   "id": "b633a3a3",
   "metadata": {
    "execution": {
     "iopub.execute_input": "2023-01-28T11:09:04.802121Z",
     "iopub.status.busy": "2023-01-28T11:09:04.801664Z",
     "iopub.status.idle": "2023-01-28T11:09:04.810476Z",
     "shell.execute_reply": "2023-01-28T11:09:04.809198Z"
    },
    "papermill": {
     "duration": 0.029595,
     "end_time": "2023-01-28T11:09:04.813077",
     "exception": false,
     "start_time": "2023-01-28T11:09:04.783482",
     "status": "completed"
    },
    "tags": []
   },
   "outputs": [
    {
     "data": {
      "text/plain": [
       "team1\n",
       "ARGENTINA         14\n",
       "AUSTRALIA          3\n",
       "BELGIUM            1\n",
       "BRAZIL             8\n",
       "CAMEROON           4\n",
       "CANADA             1\n",
       "COSTA RICA         3\n",
       "CROATIA            7\n",
       "DENMARK            1\n",
       "ECUADOR            4\n",
       "ENGLAND           12\n",
       "FRANCE            15\n",
       "GERMANY            6\n",
       "GHANA              5\n",
       "IRAN               3\n",
       "JAPAN              4\n",
       "KOREA REPUBLIC     4\n",
       "MEXICO             1\n",
       "MOROCCO            5\n",
       "NETHERLANDS        9\n",
       "POLAND             3\n",
       "PORTUGAL          11\n",
       "QATAR              1\n",
       "SAUDI ARABIA       3\n",
       "SENEGAL            5\n",
       "SERBIA             4\n",
       "SPAIN              9\n",
       "SWITZERLAND        5\n",
       "TUNISIA            0\n",
       "UNITED STATES      3\n",
       "URUGUAY            2\n",
       "WALES              1\n",
       "dtype: int64"
      ]
     },
     "execution_count": 15,
     "metadata": {},
     "output_type": "execute_result"
    }
   ],
   "source": [
    "inside=inside1+inside2\n",
    "inside"
   ]
  },
  {
   "cell_type": "markdown",
   "id": "4cf38526",
   "metadata": {
    "papermill": {
     "duration": 0.014807,
     "end_time": "2023-01-28T11:09:04.842824",
     "exception": false,
     "start_time": "2023-01-28T11:09:04.828017",
     "status": "completed"
    },
    "tags": []
   },
   "source": [
    "## The sum of 'score' outside the penalty area for each team"
   ]
  },
  {
   "cell_type": "code",
   "execution_count": 16,
   "id": "8308ff12",
   "metadata": {
    "execution": {
     "iopub.execute_input": "2023-01-28T11:09:04.875265Z",
     "iopub.status.busy": "2023-01-28T11:09:04.874802Z",
     "iopub.status.idle": "2023-01-28T11:09:04.881854Z",
     "shell.execute_reply": "2023-01-28T11:09:04.880836Z"
    },
    "papermill": {
     "duration": 0.026515,
     "end_time": "2023-01-28T11:09:04.884548",
     "exception": false,
     "start_time": "2023-01-28T11:09:04.858033",
     "status": "completed"
    },
    "tags": []
   },
   "outputs": [],
   "source": [
    "outside1=df.groupby('team1')['goal outside the penalty area team1'].sum()"
   ]
  },
  {
   "cell_type": "code",
   "execution_count": 17,
   "id": "0de83ffb",
   "metadata": {
    "execution": {
     "iopub.execute_input": "2023-01-28T11:09:04.917347Z",
     "iopub.status.busy": "2023-01-28T11:09:04.916549Z",
     "iopub.status.idle": "2023-01-28T11:09:04.923745Z",
     "shell.execute_reply": "2023-01-28T11:09:04.922530Z"
    },
    "papermill": {
     "duration": 0.027115,
     "end_time": "2023-01-28T11:09:04.926685",
     "exception": false,
     "start_time": "2023-01-28T11:09:04.899570",
     "status": "completed"
    },
    "tags": []
   },
   "outputs": [],
   "source": [
    "outside2=df.groupby(['team2'])['goal outside the penalty area team2'].sum()"
   ]
  },
  {
   "cell_type": "code",
   "execution_count": 18,
   "id": "65762c2d",
   "metadata": {
    "execution": {
     "iopub.execute_input": "2023-01-28T11:09:04.959169Z",
     "iopub.status.busy": "2023-01-28T11:09:04.958303Z",
     "iopub.status.idle": "2023-01-28T11:09:04.967746Z",
     "shell.execute_reply": "2023-01-28T11:09:04.966558Z"
    },
    "papermill": {
     "duration": 0.028901,
     "end_time": "2023-01-28T11:09:04.970562",
     "exception": false,
     "start_time": "2023-01-28T11:09:04.941661",
     "status": "completed"
    },
    "tags": []
   },
   "outputs": [
    {
     "data": {
      "text/plain": [
       "team1\n",
       "ARGENTINA         1\n",
       "AUSTRALIA         0\n",
       "BELGIUM           0\n",
       "BRAZIL            0\n",
       "CAMEROON          0\n",
       "CANADA            0\n",
       "COSTA RICA        0\n",
       "CROATIA           1\n",
       "DENMARK           0\n",
       "ECUADOR           0\n",
       "ENGLAND           1\n",
       "FRANCE            1\n",
       "GERMANY           0\n",
       "GHANA             0\n",
       "IRAN              1\n",
       "JAPAN             1\n",
       "KOREA REPUBLIC    1\n",
       "MEXICO            1\n",
       "MOROCCO           1\n",
       "NETHERLANDS       1\n",
       "POLAND            0\n",
       "PORTUGAL          1\n",
       "QATAR             0\n",
       "SAUDI ARABIA      0\n",
       "SENEGAL           0\n",
       "SERBIA            1\n",
       "SPAIN             0\n",
       "SWITZERLAND       0\n",
       "TUNISIA           1\n",
       "UNITED STATES     0\n",
       "URUGUAY           0\n",
       "WALES             0\n",
       "dtype: int64"
      ]
     },
     "execution_count": 18,
     "metadata": {},
     "output_type": "execute_result"
    }
   ],
   "source": [
    "outside=outside1+outside2\n",
    "outside"
   ]
  },
  {
   "cell_type": "code",
   "execution_count": 19,
   "id": "550c714c",
   "metadata": {
    "execution": {
     "iopub.execute_input": "2023-01-28T11:09:05.003813Z",
     "iopub.status.busy": "2023-01-28T11:09:05.003063Z",
     "iopub.status.idle": "2023-01-28T11:09:05.021784Z",
     "shell.execute_reply": "2023-01-28T11:09:05.020470Z"
    },
    "papermill": {
     "duration": 0.038643,
     "end_time": "2023-01-28T11:09:05.024791",
     "exception": false,
     "start_time": "2023-01-28T11:09:04.986148",
     "status": "completed"
    },
    "tags": []
   },
   "outputs": [
    {
     "data": {
      "text/html": [
       "<div>\n",
       "<style scoped>\n",
       "    .dataframe tbody tr th:only-of-type {\n",
       "        vertical-align: middle;\n",
       "    }\n",
       "\n",
       "    .dataframe tbody tr th {\n",
       "        vertical-align: top;\n",
       "    }\n",
       "\n",
       "    .dataframe thead th {\n",
       "        text-align: right;\n",
       "    }\n",
       "</style>\n",
       "<table border=\"1\" class=\"dataframe\">\n",
       "  <thead>\n",
       "    <tr style=\"text-align: right;\">\n",
       "      <th></th>\n",
       "      <th>team1</th>\n",
       "      <th>team2</th>\n",
       "      <th>yellow cards team1</th>\n",
       "      <th>yellow cards team2</th>\n",
       "      <th>red cards team1</th>\n",
       "      <th>red cards team2</th>\n",
       "    </tr>\n",
       "  </thead>\n",
       "  <tbody>\n",
       "    <tr>\n",
       "      <th>0</th>\n",
       "      <td>QATAR</td>\n",
       "      <td>ECUADOR</td>\n",
       "      <td>4</td>\n",
       "      <td>2</td>\n",
       "      <td>0</td>\n",
       "      <td>0</td>\n",
       "    </tr>\n",
       "    <tr>\n",
       "      <th>1</th>\n",
       "      <td>ENGLAND</td>\n",
       "      <td>IRAN</td>\n",
       "      <td>0</td>\n",
       "      <td>2</td>\n",
       "      <td>0</td>\n",
       "      <td>0</td>\n",
       "    </tr>\n",
       "    <tr>\n",
       "      <th>2</th>\n",
       "      <td>SENEGAL</td>\n",
       "      <td>NETHERLANDS</td>\n",
       "      <td>2</td>\n",
       "      <td>1</td>\n",
       "      <td>0</td>\n",
       "      <td>0</td>\n",
       "    </tr>\n",
       "    <tr>\n",
       "      <th>3</th>\n",
       "      <td>UNITED STATES</td>\n",
       "      <td>WALES</td>\n",
       "      <td>4</td>\n",
       "      <td>2</td>\n",
       "      <td>0</td>\n",
       "      <td>0</td>\n",
       "    </tr>\n",
       "    <tr>\n",
       "      <th>4</th>\n",
       "      <td>ARGENTINA</td>\n",
       "      <td>SAUDI ARABIA</td>\n",
       "      <td>0</td>\n",
       "      <td>6</td>\n",
       "      <td>0</td>\n",
       "      <td>0</td>\n",
       "    </tr>\n",
       "    <tr>\n",
       "      <th>...</th>\n",
       "      <td>...</td>\n",
       "      <td>...</td>\n",
       "      <td>...</td>\n",
       "      <td>...</td>\n",
       "      <td>...</td>\n",
       "      <td>...</td>\n",
       "    </tr>\n",
       "    <tr>\n",
       "      <th>59</th>\n",
       "      <td>ENGLAND</td>\n",
       "      <td>FRANCE</td>\n",
       "      <td>1</td>\n",
       "      <td>3</td>\n",
       "      <td>0</td>\n",
       "      <td>0</td>\n",
       "    </tr>\n",
       "    <tr>\n",
       "      <th>60</th>\n",
       "      <td>ARGENTINA</td>\n",
       "      <td>CROATIA</td>\n",
       "      <td>2</td>\n",
       "      <td>2</td>\n",
       "      <td>0</td>\n",
       "      <td>0</td>\n",
       "    </tr>\n",
       "    <tr>\n",
       "      <th>61</th>\n",
       "      <td>FRANCE</td>\n",
       "      <td>MOROCCO</td>\n",
       "      <td>0</td>\n",
       "      <td>1</td>\n",
       "      <td>0</td>\n",
       "      <td>0</td>\n",
       "    </tr>\n",
       "    <tr>\n",
       "      <th>62</th>\n",
       "      <td>CROATIA</td>\n",
       "      <td>MOROCCO</td>\n",
       "      <td>0</td>\n",
       "      <td>2</td>\n",
       "      <td>0</td>\n",
       "      <td>0</td>\n",
       "    </tr>\n",
       "    <tr>\n",
       "      <th>63</th>\n",
       "      <td>ARGENTINA</td>\n",
       "      <td>FRANCE</td>\n",
       "      <td>4</td>\n",
       "      <td>3</td>\n",
       "      <td>0</td>\n",
       "      <td>0</td>\n",
       "    </tr>\n",
       "  </tbody>\n",
       "</table>\n",
       "<p>64 rows × 6 columns</p>\n",
       "</div>"
      ],
      "text/plain": [
       "            team1         team2  yellow cards team1  yellow cards team2  \\\n",
       "0           QATAR       ECUADOR                   4                   2   \n",
       "1         ENGLAND          IRAN                   0                   2   \n",
       "2         SENEGAL   NETHERLANDS                   2                   1   \n",
       "3   UNITED STATES         WALES                   4                   2   \n",
       "4       ARGENTINA  SAUDI ARABIA                   0                   6   \n",
       "..            ...           ...                 ...                 ...   \n",
       "59        ENGLAND        FRANCE                   1                   3   \n",
       "60      ARGENTINA       CROATIA                   2                   2   \n",
       "61         FRANCE       MOROCCO                   0                   1   \n",
       "62        CROATIA       MOROCCO                   0                   2   \n",
       "63      ARGENTINA        FRANCE                   4                   3   \n",
       "\n",
       "    red cards team1  red cards team2  \n",
       "0                 0                0  \n",
       "1                 0                0  \n",
       "2                 0                0  \n",
       "3                 0                0  \n",
       "4                 0                0  \n",
       "..              ...              ...  \n",
       "59                0                0  \n",
       "60                0                0  \n",
       "61                0                0  \n",
       "62                0                0  \n",
       "63                0                0  \n",
       "\n",
       "[64 rows x 6 columns]"
      ]
     },
     "execution_count": 19,
     "metadata": {},
     "output_type": "execute_result"
    }
   ],
   "source": [
    "df[['team1', 'team2','yellow cards team1','yellow cards team2','red cards team1','red cards team2']]"
   ]
  },
  {
   "cell_type": "markdown",
   "id": "6143f066",
   "metadata": {
    "papermill": {
     "duration": 0.015011,
     "end_time": "2023-01-28T11:09:05.055429",
     "exception": false,
     "start_time": "2023-01-28T11:09:05.040418",
     "status": "completed"
    },
    "tags": []
   },
   "source": [
    "## The sum of 'Yellow cards' for each team"
   ]
  },
  {
   "cell_type": "code",
   "execution_count": 20,
   "id": "d204e36a",
   "metadata": {
    "execution": {
     "iopub.execute_input": "2023-01-28T11:09:05.088306Z",
     "iopub.status.busy": "2023-01-28T11:09:05.087772Z",
     "iopub.status.idle": "2023-01-28T11:09:05.099944Z",
     "shell.execute_reply": "2023-01-28T11:09:05.098724Z"
    },
    "papermill": {
     "duration": 0.031347,
     "end_time": "2023-01-28T11:09:05.102204",
     "exception": false,
     "start_time": "2023-01-28T11:09:05.070857",
     "status": "completed"
    },
    "tags": []
   },
   "outputs": [
    {
     "data": {
      "text/plain": [
       "team1\n",
       "ARGENTINA          7\n",
       "AUSTRALIA          2\n",
       "BELGIUM            4\n",
       "BRAZIL             1\n",
       "CAMEROON           7\n",
       "CANADA             4\n",
       "COSTA RICA         1\n",
       "CROATIA            4\n",
       "DENMARK            2\n",
       "ECUADOR            0\n",
       "ENGLAND            1\n",
       "FRANCE             2\n",
       "GERMANY            0\n",
       "GHANA              2\n",
       "IRAN               3\n",
       "JAPAN              6\n",
       "KOREA REPUBLIC     4\n",
       "MEXICO             2\n",
       "MOROCCO            5\n",
       "NETHERLANDS       11\n",
       "POLAND             4\n",
       "PORTUGAL           5\n",
       "QATAR              7\n",
       "SAUDI ARABIA       6\n",
       "SENEGAL            2\n",
       "SERBIA             7\n",
       "SPAIN              1\n",
       "SWITZERLAND        2\n",
       "TUNISIA            4\n",
       "UNITED STATES      4\n",
       "URUGUAY            1\n",
       "WALES              3\n",
       "Name: yellow cards team1, dtype: int64"
      ]
     },
     "execution_count": 20,
     "metadata": {},
     "output_type": "execute_result"
    }
   ],
   "source": [
    "cards1=df.groupby('team1')['yellow cards team1'].sum()\n",
    "cards1"
   ]
  },
  {
   "cell_type": "code",
   "execution_count": 21,
   "id": "73bb2531",
   "metadata": {
    "execution": {
     "iopub.execute_input": "2023-01-28T11:09:05.136466Z",
     "iopub.status.busy": "2023-01-28T11:09:05.135413Z",
     "iopub.status.idle": "2023-01-28T11:09:05.147853Z",
     "shell.execute_reply": "2023-01-28T11:09:05.146429Z"
    },
    "papermill": {
     "duration": 0.032384,
     "end_time": "2023-01-28T11:09:05.150330",
     "exception": false,
     "start_time": "2023-01-28T11:09:05.117946",
     "status": "completed"
    },
    "tags": []
   },
   "outputs": [
    {
     "data": {
      "text/plain": [
       "team2\n",
       "ARGENTINA         9\n",
       "AUSTRALIA         5\n",
       "BELGIUM           1\n",
       "BRAZIL            5\n",
       "CAMEROON          1\n",
       "CANADA            4\n",
       "COSTA RICA        5\n",
       "CROATIA           4\n",
       "DENMARK           3\n",
       "ECUADOR           3\n",
       "ENGLAND           0\n",
       "FRANCE            6\n",
       "GERMANY           3\n",
       "GHANA             6\n",
       "IRAN              4\n",
       "JAPAN             0\n",
       "KOREA REPUBLIC    2\n",
       "MEXICO            5\n",
       "MOROCCO           4\n",
       "NETHERLANDS       1\n",
       "POLAND            3\n",
       "PORTUGAL          1\n",
       "QATAR             0\n",
       "SAUDI ARABIA      8\n",
       "SENEGAL           5\n",
       "SERBIA            5\n",
       "SPAIN             1\n",
       "SWITZERLAND       7\n",
       "TUNISIA           1\n",
       "UNITED STATES     1\n",
       "URUGUAY           7\n",
       "WALES             2\n",
       "Name: yellow cards team2, dtype: int64"
      ]
     },
     "execution_count": 21,
     "metadata": {},
     "output_type": "execute_result"
    }
   ],
   "source": [
    "cards2=df.groupby('team2')['yellow cards team2'].sum()\n",
    "cards2"
   ]
  },
  {
   "cell_type": "code",
   "execution_count": 22,
   "id": "a8d952ea",
   "metadata": {
    "execution": {
     "iopub.execute_input": "2023-01-28T11:09:05.183955Z",
     "iopub.status.busy": "2023-01-28T11:09:05.183440Z",
     "iopub.status.idle": "2023-01-28T11:09:05.193155Z",
     "shell.execute_reply": "2023-01-28T11:09:05.191962Z"
    },
    "papermill": {
     "duration": 0.029537,
     "end_time": "2023-01-28T11:09:05.195744",
     "exception": false,
     "start_time": "2023-01-28T11:09:05.166207",
     "status": "completed"
    },
    "tags": []
   },
   "outputs": [
    {
     "data": {
      "text/plain": [
       "team1\n",
       "ARGENTINA         16\n",
       "AUSTRALIA          7\n",
       "BELGIUM            5\n",
       "BRAZIL             6\n",
       "CAMEROON           8\n",
       "CANADA             8\n",
       "COSTA RICA         6\n",
       "CROATIA            8\n",
       "DENMARK            5\n",
       "ECUADOR            3\n",
       "ENGLAND            1\n",
       "FRANCE             8\n",
       "GERMANY            3\n",
       "GHANA              8\n",
       "IRAN               7\n",
       "JAPAN              6\n",
       "KOREA REPUBLIC     6\n",
       "MEXICO             7\n",
       "MOROCCO            9\n",
       "NETHERLANDS       12\n",
       "POLAND             7\n",
       "PORTUGAL           6\n",
       "QATAR              7\n",
       "SAUDI ARABIA      14\n",
       "SENEGAL            7\n",
       "SERBIA            12\n",
       "SPAIN              2\n",
       "SWITZERLAND        9\n",
       "TUNISIA            5\n",
       "UNITED STATES      5\n",
       "URUGUAY            8\n",
       "WALES              5\n",
       "dtype: int64"
      ]
     },
     "execution_count": 22,
     "metadata": {},
     "output_type": "execute_result"
    }
   ],
   "source": [
    "cards_Y=cards1+cards2\n",
    "cards_Y"
   ]
  },
  {
   "cell_type": "markdown",
   "id": "fad9f236",
   "metadata": {
    "papermill": {
     "duration": 0.015714,
     "end_time": "2023-01-28T11:09:05.227789",
     "exception": false,
     "start_time": "2023-01-28T11:09:05.212075",
     "status": "completed"
    },
    "tags": []
   },
   "source": [
    "## The sum of 'Red cards' for each team"
   ]
  },
  {
   "cell_type": "code",
   "execution_count": 23,
   "id": "889c8d53",
   "metadata": {
    "execution": {
     "iopub.execute_input": "2023-01-28T11:09:05.261438Z",
     "iopub.status.busy": "2023-01-28T11:09:05.260943Z",
     "iopub.status.idle": "2023-01-28T11:09:05.271889Z",
     "shell.execute_reply": "2023-01-28T11:09:05.270677Z"
    },
    "papermill": {
     "duration": 0.030881,
     "end_time": "2023-01-28T11:09:05.274253",
     "exception": false,
     "start_time": "2023-01-28T11:09:05.243372",
     "status": "completed"
    },
    "tags": []
   },
   "outputs": [
    {
     "data": {
      "text/plain": [
       "team1\n",
       "ARGENTINA         0\n",
       "AUSTRALIA         0\n",
       "BELGIUM           0\n",
       "BRAZIL            0\n",
       "CAMEROON          1\n",
       "CANADA            0\n",
       "COSTA RICA        0\n",
       "CROATIA           0\n",
       "DENMARK           0\n",
       "ECUADOR           0\n",
       "ENGLAND           0\n",
       "FRANCE            0\n",
       "GERMANY           0\n",
       "GHANA             0\n",
       "IRAN              0\n",
       "JAPAN             0\n",
       "KOREA REPUBLIC    0\n",
       "MEXICO            0\n",
       "MOROCCO           1\n",
       "NETHERLANDS       1\n",
       "POLAND            0\n",
       "PORTUGAL          0\n",
       "QATAR             0\n",
       "SAUDI ARABIA      0\n",
       "SENEGAL           0\n",
       "SERBIA            0\n",
       "SPAIN             0\n",
       "SWITZERLAND       0\n",
       "TUNISIA           0\n",
       "UNITED STATES     0\n",
       "URUGUAY           0\n",
       "WALES             1\n",
       "Name: red cards team1, dtype: int64"
      ]
     },
     "execution_count": 23,
     "metadata": {},
     "output_type": "execute_result"
    }
   ],
   "source": [
    "cards_r_1=df.groupby('team1')['red cards team1'].sum()\n",
    "cards_r_1"
   ]
  },
  {
   "cell_type": "code",
   "execution_count": 24,
   "id": "64643ccb",
   "metadata": {
    "execution": {
     "iopub.execute_input": "2023-01-28T11:09:05.308617Z",
     "iopub.status.busy": "2023-01-28T11:09:05.308077Z",
     "iopub.status.idle": "2023-01-28T11:09:05.319598Z",
     "shell.execute_reply": "2023-01-28T11:09:05.318444Z"
    },
    "papermill": {
     "duration": 0.031767,
     "end_time": "2023-01-28T11:09:05.321995",
     "exception": false,
     "start_time": "2023-01-28T11:09:05.290228",
     "status": "completed"
    },
    "tags": []
   },
   "outputs": [
    {
     "data": {
      "text/plain": [
       "team2\n",
       "ARGENTINA         0\n",
       "AUSTRALIA         0\n",
       "BELGIUM           0\n",
       "BRAZIL            0\n",
       "CAMEROON          0\n",
       "CANADA            0\n",
       "COSTA RICA        0\n",
       "CROATIA           0\n",
       "DENMARK           0\n",
       "ECUADOR           0\n",
       "ENGLAND           0\n",
       "FRANCE            0\n",
       "GERMANY           0\n",
       "GHANA             0\n",
       "IRAN              0\n",
       "JAPAN             0\n",
       "KOREA REPUBLIC    0\n",
       "MEXICO            0\n",
       "MOROCCO           0\n",
       "NETHERLANDS       0\n",
       "POLAND            0\n",
       "PORTUGAL          0\n",
       "QATAR             0\n",
       "SAUDI ARABIA      0\n",
       "SENEGAL           0\n",
       "SERBIA            0\n",
       "SPAIN             0\n",
       "SWITZERLAND       0\n",
       "TUNISIA           0\n",
       "UNITED STATES     0\n",
       "URUGUAY           0\n",
       "WALES             0\n",
       "Name: red cards team2, dtype: int64"
      ]
     },
     "execution_count": 24,
     "metadata": {},
     "output_type": "execute_result"
    }
   ],
   "source": [
    "cards_r_2=df.groupby('team2')['red cards team2'].sum()\n",
    "cards_r_2"
   ]
  },
  {
   "cell_type": "code",
   "execution_count": 25,
   "id": "e3c2aa1f",
   "metadata": {
    "execution": {
     "iopub.execute_input": "2023-01-28T11:09:05.357419Z",
     "iopub.status.busy": "2023-01-28T11:09:05.356907Z",
     "iopub.status.idle": "2023-01-28T11:09:05.366584Z",
     "shell.execute_reply": "2023-01-28T11:09:05.365339Z"
    },
    "papermill": {
     "duration": 0.029938,
     "end_time": "2023-01-28T11:09:05.369084",
     "exception": false,
     "start_time": "2023-01-28T11:09:05.339146",
     "status": "completed"
    },
    "tags": []
   },
   "outputs": [
    {
     "data": {
      "text/plain": [
       "team1\n",
       "ARGENTINA         0\n",
       "AUSTRALIA         0\n",
       "BELGIUM           0\n",
       "BRAZIL            0\n",
       "CAMEROON          1\n",
       "CANADA            0\n",
       "COSTA RICA        0\n",
       "CROATIA           0\n",
       "DENMARK           0\n",
       "ECUADOR           0\n",
       "ENGLAND           0\n",
       "FRANCE            0\n",
       "GERMANY           0\n",
       "GHANA             0\n",
       "IRAN              0\n",
       "JAPAN             0\n",
       "KOREA REPUBLIC    0\n",
       "MEXICO            0\n",
       "MOROCCO           1\n",
       "NETHERLANDS       1\n",
       "POLAND            0\n",
       "PORTUGAL          0\n",
       "QATAR             0\n",
       "SAUDI ARABIA      0\n",
       "SENEGAL           0\n",
       "SERBIA            0\n",
       "SPAIN             0\n",
       "SWITZERLAND       0\n",
       "TUNISIA           0\n",
       "UNITED STATES     0\n",
       "URUGUAY           0\n",
       "WALES             1\n",
       "dtype: int64"
      ]
     },
     "execution_count": 25,
     "metadata": {},
     "output_type": "execute_result"
    }
   ],
   "source": [
    "cards_R=cards_r_1+cards_r_2\n",
    "cards_R"
   ]
  },
  {
   "cell_type": "code",
   "execution_count": 26,
   "id": "aa23225f",
   "metadata": {
    "execution": {
     "iopub.execute_input": "2023-01-28T11:09:05.404752Z",
     "iopub.status.busy": "2023-01-28T11:09:05.404037Z",
     "iopub.status.idle": "2023-01-28T11:09:05.413172Z",
     "shell.execute_reply": "2023-01-28T11:09:05.411918Z"
    },
    "papermill": {
     "duration": 0.030153,
     "end_time": "2023-01-28T11:09:05.415828",
     "exception": false,
     "start_time": "2023-01-28T11:09:05.385675",
     "status": "completed"
    },
    "tags": []
   },
   "outputs": [
    {
     "data": {
      "text/plain": [
       "Index(['team1', 'team2', 'possession team1', 'possession team2',\n",
       "       'possession in contest', 'number of goals team1',\n",
       "       'number of goals team2', 'date', 'hour', 'category',\n",
       "       'total attempts team1', 'total attempts team2', 'conceded team1',\n",
       "       'conceded team2', 'goal inside the penalty area team1',\n",
       "       'goal inside the penalty area team2',\n",
       "       'goal outside the penalty area team1',\n",
       "       'goal outside the penalty area team2', 'assists team1', 'assists team2',\n",
       "       'on target attempts team1', 'on target attempts team2',\n",
       "       'off target attempts team1', 'off target attempts team2',\n",
       "       'attempts inside the penalty area team1',\n",
       "       'attempts inside the penalty area  team2',\n",
       "       'attempts outside the penalty area  team1',\n",
       "       'attempts outside the penalty area  team2', 'left channel team1',\n",
       "       'left channel team2', 'left inside channel team1',\n",
       "       'left inside channel team2', 'central channel team1',\n",
       "       'central channel team2', 'right inside channel team1',\n",
       "       'right inside channel team2', 'right channel team1',\n",
       "       'right channel team2', 'total offers to receive team1',\n",
       "       'total offers to receive team2', 'inbehind offers to receive team1',\n",
       "       'inbehind offers to receive team2', 'inbetween offers to receive team1',\n",
       "       'inbetween offers to receive team2', 'infront offers to receive team1',\n",
       "       'infront offers to receive team2',\n",
       "       'receptions between midfield and defensive lines team1',\n",
       "       'receptions between midfield and defensive lines team2',\n",
       "       'attempted line breaks team1', 'attempted line breaks team2',\n",
       "       'completed line breaksteam1', 'completed line breaks team2',\n",
       "       'attempted defensive line breaks team1',\n",
       "       'attempted defensive line breaks team2',\n",
       "       'completed defensive line breaksteam1',\n",
       "       'completed defensive line breaks team2', 'yellow cards team1',\n",
       "       'yellow cards team2', 'red cards team1', 'red cards team2',\n",
       "       'fouls against team1', 'fouls against team2', 'offsides team1',\n",
       "       'offsides team2', 'passes team1', 'passes team2',\n",
       "       'passes completed team1', 'passes completed team2', 'crosses team1',\n",
       "       'crosses team2', 'crosses completed team1', 'crosses completed team2',\n",
       "       'switches of play completed team1', 'switches of play completed team2',\n",
       "       'corners team1', 'corners team2', 'free kicks team1',\n",
       "       'free kicks team2', 'penalties scored team1', 'penalties scored team2',\n",
       "       'goal preventions team1', 'goal preventions team2', 'own goals team1',\n",
       "       'own goals team2', 'forced turnovers team1', 'forced turnovers team2',\n",
       "       'defensive pressures applied team1',\n",
       "       'defensive pressures applied team2'],\n",
       "      dtype='object')"
      ]
     },
     "execution_count": 26,
     "metadata": {},
     "output_type": "execute_result"
    }
   ],
   "source": [
    "t"
   ]
  },
  {
   "cell_type": "code",
   "execution_count": 27,
   "id": "0f5b9bf3",
   "metadata": {
    "execution": {
     "iopub.execute_input": "2023-01-28T11:09:05.451464Z",
     "iopub.status.busy": "2023-01-28T11:09:05.450989Z",
     "iopub.status.idle": "2023-01-28T11:09:05.469782Z",
     "shell.execute_reply": "2023-01-28T11:09:05.468571Z"
    },
    "papermill": {
     "duration": 0.040363,
     "end_time": "2023-01-28T11:09:05.472890",
     "exception": false,
     "start_time": "2023-01-28T11:09:05.432527",
     "status": "completed"
    },
    "tags": []
   },
   "outputs": [
    {
     "data": {
      "text/html": [
       "<div>\n",
       "<style scoped>\n",
       "    .dataframe tbody tr th:only-of-type {\n",
       "        vertical-align: middle;\n",
       "    }\n",
       "\n",
       "    .dataframe tbody tr th {\n",
       "        vertical-align: top;\n",
       "    }\n",
       "\n",
       "    .dataframe thead th {\n",
       "        text-align: right;\n",
       "    }\n",
       "</style>\n",
       "<table border=\"1\" class=\"dataframe\">\n",
       "  <thead>\n",
       "    <tr style=\"text-align: right;\">\n",
       "      <th></th>\n",
       "      <th>team1</th>\n",
       "      <th>team2</th>\n",
       "      <th>total attempts team2</th>\n",
       "      <th>total attempts team1</th>\n",
       "      <th>on target attempts team1</th>\n",
       "      <th>on target attempts team2</th>\n",
       "      <th>off target attempts team1</th>\n",
       "      <th>off target attempts team2</th>\n",
       "    </tr>\n",
       "  </thead>\n",
       "  <tbody>\n",
       "    <tr>\n",
       "      <th>0</th>\n",
       "      <td>QATAR</td>\n",
       "      <td>ECUADOR</td>\n",
       "      <td>6</td>\n",
       "      <td>5</td>\n",
       "      <td>0</td>\n",
       "      <td>3</td>\n",
       "      <td>5</td>\n",
       "      <td>3</td>\n",
       "    </tr>\n",
       "    <tr>\n",
       "      <th>1</th>\n",
       "      <td>ENGLAND</td>\n",
       "      <td>IRAN</td>\n",
       "      <td>8</td>\n",
       "      <td>13</td>\n",
       "      <td>7</td>\n",
       "      <td>3</td>\n",
       "      <td>3</td>\n",
       "      <td>4</td>\n",
       "    </tr>\n",
       "    <tr>\n",
       "      <th>2</th>\n",
       "      <td>SENEGAL</td>\n",
       "      <td>NETHERLANDS</td>\n",
       "      <td>9</td>\n",
       "      <td>14</td>\n",
       "      <td>3</td>\n",
       "      <td>3</td>\n",
       "      <td>8</td>\n",
       "      <td>5</td>\n",
       "    </tr>\n",
       "    <tr>\n",
       "      <th>3</th>\n",
       "      <td>UNITED STATES</td>\n",
       "      <td>WALES</td>\n",
       "      <td>7</td>\n",
       "      <td>6</td>\n",
       "      <td>1</td>\n",
       "      <td>3</td>\n",
       "      <td>4</td>\n",
       "      <td>3</td>\n",
       "    </tr>\n",
       "    <tr>\n",
       "      <th>4</th>\n",
       "      <td>ARGENTINA</td>\n",
       "      <td>SAUDI ARABIA</td>\n",
       "      <td>3</td>\n",
       "      <td>14</td>\n",
       "      <td>6</td>\n",
       "      <td>2</td>\n",
       "      <td>5</td>\n",
       "      <td>0</td>\n",
       "    </tr>\n",
       "    <tr>\n",
       "      <th>...</th>\n",
       "      <td>...</td>\n",
       "      <td>...</td>\n",
       "      <td>...</td>\n",
       "      <td>...</td>\n",
       "      <td>...</td>\n",
       "      <td>...</td>\n",
       "      <td>...</td>\n",
       "      <td>...</td>\n",
       "    </tr>\n",
       "    <tr>\n",
       "      <th>59</th>\n",
       "      <td>ENGLAND</td>\n",
       "      <td>FRANCE</td>\n",
       "      <td>9</td>\n",
       "      <td>14</td>\n",
       "      <td>6</td>\n",
       "      <td>5</td>\n",
       "      <td>4</td>\n",
       "      <td>3</td>\n",
       "    </tr>\n",
       "    <tr>\n",
       "      <th>60</th>\n",
       "      <td>ARGENTINA</td>\n",
       "      <td>CROATIA</td>\n",
       "      <td>12</td>\n",
       "      <td>10</td>\n",
       "      <td>7</td>\n",
       "      <td>3</td>\n",
       "      <td>2</td>\n",
       "      <td>7</td>\n",
       "    </tr>\n",
       "    <tr>\n",
       "      <th>61</th>\n",
       "      <td>FRANCE</td>\n",
       "      <td>MOROCCO</td>\n",
       "      <td>13</td>\n",
       "      <td>14</td>\n",
       "      <td>2</td>\n",
       "      <td>1</td>\n",
       "      <td>8</td>\n",
       "      <td>6</td>\n",
       "    </tr>\n",
       "    <tr>\n",
       "      <th>62</th>\n",
       "      <td>CROATIA</td>\n",
       "      <td>MOROCCO</td>\n",
       "      <td>7</td>\n",
       "      <td>14</td>\n",
       "      <td>4</td>\n",
       "      <td>2</td>\n",
       "      <td>8</td>\n",
       "      <td>5</td>\n",
       "    </tr>\n",
       "    <tr>\n",
       "      <th>63</th>\n",
       "      <td>ARGENTINA</td>\n",
       "      <td>FRANCE</td>\n",
       "      <td>10</td>\n",
       "      <td>21</td>\n",
       "      <td>9</td>\n",
       "      <td>5</td>\n",
       "      <td>9</td>\n",
       "      <td>3</td>\n",
       "    </tr>\n",
       "  </tbody>\n",
       "</table>\n",
       "<p>64 rows × 8 columns</p>\n",
       "</div>"
      ],
      "text/plain": [
       "            team1         team2  total attempts team2  total attempts team1  \\\n",
       "0           QATAR       ECUADOR                     6                     5   \n",
       "1         ENGLAND          IRAN                     8                    13   \n",
       "2         SENEGAL   NETHERLANDS                     9                    14   \n",
       "3   UNITED STATES         WALES                     7                     6   \n",
       "4       ARGENTINA  SAUDI ARABIA                     3                    14   \n",
       "..            ...           ...                   ...                   ...   \n",
       "59        ENGLAND        FRANCE                     9                    14   \n",
       "60      ARGENTINA       CROATIA                    12                    10   \n",
       "61         FRANCE       MOROCCO                    13                    14   \n",
       "62        CROATIA       MOROCCO                     7                    14   \n",
       "63      ARGENTINA        FRANCE                    10                    21   \n",
       "\n",
       "    on target attempts team1  on target attempts team2  \\\n",
       "0                          0                         3   \n",
       "1                          7                         3   \n",
       "2                          3                         3   \n",
       "3                          1                         3   \n",
       "4                          6                         2   \n",
       "..                       ...                       ...   \n",
       "59                         6                         5   \n",
       "60                         7                         3   \n",
       "61                         2                         1   \n",
       "62                         4                         2   \n",
       "63                         9                         5   \n",
       "\n",
       "    off target attempts team1  off target attempts team2  \n",
       "0                           5                          3  \n",
       "1                           3                          4  \n",
       "2                           8                          5  \n",
       "3                           4                          3  \n",
       "4                           5                          0  \n",
       "..                        ...                        ...  \n",
       "59                          4                          3  \n",
       "60                          2                          7  \n",
       "61                          8                          6  \n",
       "62                          8                          5  \n",
       "63                          9                          3  \n",
       "\n",
       "[64 rows x 8 columns]"
      ]
     },
     "execution_count": 27,
     "metadata": {},
     "output_type": "execute_result"
    }
   ],
   "source": [
    "df[['team1', 'team2','total attempts team2','total attempts team1','on target attempts team1',\n",
    "'on target attempts team2','off target attempts team1', 'off target attempts team2']]"
   ]
  },
  {
   "cell_type": "markdown",
   "id": "160d4e54",
   "metadata": {
    "papermill": {
     "duration": 0.016724,
     "end_time": "2023-01-28T11:09:05.506639",
     "exception": false,
     "start_time": "2023-01-28T11:09:05.489915",
     "status": "completed"
    },
    "tags": []
   },
   "source": [
    "## The average of ‘attempts’ for each team"
   ]
  },
  {
   "cell_type": "code",
   "execution_count": 28,
   "id": "2369cbad",
   "metadata": {
    "execution": {
     "iopub.execute_input": "2023-01-28T11:09:05.542852Z",
     "iopub.status.busy": "2023-01-28T11:09:05.542357Z",
     "iopub.status.idle": "2023-01-28T11:09:05.555809Z",
     "shell.execute_reply": "2023-01-28T11:09:05.554604Z"
    },
    "papermill": {
     "duration": 0.03452,
     "end_time": "2023-01-28T11:09:05.558201",
     "exception": false,
     "start_time": "2023-01-28T11:09:05.523681",
     "status": "completed"
    },
    "tags": []
   },
   "outputs": [
    {
     "data": {
      "text/plain": [
       "team1\n",
       "ARGENTINA         12.800000\n",
       "AUSTRALIA          8.000000\n",
       "BELGIUM            9.500000\n",
       "BRAZIL            17.000000\n",
       "CAMEROON          10.000000\n",
       "CANADA             5.000000\n",
       "COSTA RICA         8.000000\n",
       "CROATIA           11.750000\n",
       "DENMARK           11.000000\n",
       "ECUADOR            8.000000\n",
       "ENGLAND           10.750000\n",
       "FRANCE            18.250000\n",
       "GERMANY           25.000000\n",
       "GHANA              9.000000\n",
       "IRAN               6.000000\n",
       "JAPAN             10.666667\n",
       "KOREA REPUBLIC    16.500000\n",
       "MEXICO            13.000000\n",
       "MOROCCO            7.666667\n",
       "NETHERLANDS        7.750000\n",
       "POLAND             6.000000\n",
       "PORTUGAL          13.000000\n",
       "QATAR              7.500000\n",
       "SAUDI ARABIA      10.000000\n",
       "SENEGAL           14.000000\n",
       "SERBIA            11.000000\n",
       "SPAIN             12.000000\n",
       "SWITZERLAND        8.000000\n",
       "TUNISIA            9.000000\n",
       "UNITED STATES      6.000000\n",
       "URUGUAY           10.000000\n",
       "WALES              8.500000\n",
       "Name: total attempts team1, dtype: float64"
      ]
     },
     "execution_count": 28,
     "metadata": {},
     "output_type": "execute_result"
    }
   ],
   "source": [
    "attempts1=df.groupby('team1')['total attempts team1'].mean()\n",
    "attempts1"
   ]
  },
  {
   "cell_type": "code",
   "execution_count": 29,
   "id": "bc43b2a0",
   "metadata": {
    "execution": {
     "iopub.execute_input": "2023-01-28T11:09:05.594926Z",
     "iopub.status.busy": "2023-01-28T11:09:05.594444Z",
     "iopub.status.idle": "2023-01-28T11:09:05.606265Z",
     "shell.execute_reply": "2023-01-28T11:09:05.604976Z"
    },
    "papermill": {
     "duration": 0.033173,
     "end_time": "2023-01-28T11:09:05.608792",
     "exception": false,
     "start_time": "2023-01-28T11:09:05.575619",
     "status": "completed"
    },
    "tags": []
   },
   "outputs": [
    {
     "data": {
      "text/plain": [
       "team2\n",
       "ARGENTINA         20.000000\n",
       "AUSTRALIA          5.666667\n",
       "BELGIUM           15.000000\n",
       "BRAZIL            19.500000\n",
       "CAMEROON           7.000000\n",
       "CANADA            15.000000\n",
       "COSTA RICA         2.000000\n",
       "CROATIA           11.333333\n",
       "DENMARK           12.000000\n",
       "ECUADOR            9.500000\n",
       "ENGLAND           17.000000\n",
       "FRANCE             9.333333\n",
       "GERMANY           21.000000\n",
       "GHANA              8.000000\n",
       "IRAN              14.500000\n",
       "JAPAN             10.000000\n",
       "KOREA REPUBLIC     8.000000\n",
       "MEXICO            14.500000\n",
       "MOROCCO            9.500000\n",
       "NETHERLANDS        9.000000\n",
       "POLAND             9.500000\n",
       "PORTUGAL          11.500000\n",
       "QATAR              6.000000\n",
       "SAUDI ARABIA       9.500000\n",
       "SENEGAL           12.333333\n",
       "SERBIA            10.000000\n",
       "SPAIN             13.500000\n",
       "SWITZERLAND        9.333333\n",
       "TUNISIA           11.000000\n",
       "UNITED STATES     13.333333\n",
       "URUGUAY           11.000000\n",
       "WALES              7.000000\n",
       "Name: total attempts team2, dtype: float64"
      ]
     },
     "execution_count": 29,
     "metadata": {},
     "output_type": "execute_result"
    }
   ],
   "source": [
    "attempts2=df.groupby('team2')['total attempts team2'].mean()\n",
    "attempts2"
   ]
  },
  {
   "cell_type": "code",
   "execution_count": 30,
   "id": "9f913b2c",
   "metadata": {
    "execution": {
     "iopub.execute_input": "2023-01-28T11:09:05.646008Z",
     "iopub.status.busy": "2023-01-28T11:09:05.645150Z",
     "iopub.status.idle": "2023-01-28T11:09:05.656056Z",
     "shell.execute_reply": "2023-01-28T11:09:05.654861Z"
    },
    "papermill": {
     "duration": 0.032372,
     "end_time": "2023-01-28T11:09:05.658514",
     "exception": false,
     "start_time": "2023-01-28T11:09:05.626142",
     "status": "completed"
    },
    "tags": []
   },
   "outputs": [
    {
     "data": {
      "text/plain": [
       "team1\n",
       "ARGENTINA         16.400000\n",
       "AUSTRALIA          6.833333\n",
       "BELGIUM           12.250000\n",
       "BRAZIL            18.250000\n",
       "CAMEROON           8.500000\n",
       "CANADA            10.000000\n",
       "COSTA RICA         5.000000\n",
       "CROATIA           11.541667\n",
       "DENMARK           11.500000\n",
       "ECUADOR            8.750000\n",
       "ENGLAND           13.875000\n",
       "FRANCE            13.791667\n",
       "GERMANY           23.000000\n",
       "GHANA              8.500000\n",
       "IRAN              10.250000\n",
       "JAPAN             10.333333\n",
       "KOREA REPUBLIC    12.250000\n",
       "MEXICO            13.750000\n",
       "MOROCCO            8.583333\n",
       "NETHERLANDS        8.375000\n",
       "POLAND             7.750000\n",
       "PORTUGAL          12.250000\n",
       "QATAR              6.750000\n",
       "SAUDI ARABIA       9.750000\n",
       "SENEGAL           13.166667\n",
       "SERBIA            10.500000\n",
       "SPAIN             12.750000\n",
       "SWITZERLAND        8.666667\n",
       "TUNISIA           10.000000\n",
       "UNITED STATES      9.666667\n",
       "URUGUAY           10.500000\n",
       "WALES              7.750000\n",
       "dtype: float64"
      ]
     },
     "execution_count": 30,
     "metadata": {},
     "output_type": "execute_result"
    }
   ],
   "source": [
    "Avg_attempts=(attempts1+attempts2)/2\n",
    "Avg_attempts"
   ]
  },
  {
   "cell_type": "code",
   "execution_count": 31,
   "id": "5bfb689b",
   "metadata": {
    "execution": {
     "iopub.execute_input": "2023-01-28T11:09:05.696079Z",
     "iopub.status.busy": "2023-01-28T11:09:05.695576Z",
     "iopub.status.idle": "2023-01-28T11:09:05.715740Z",
     "shell.execute_reply": "2023-01-28T11:09:05.714545Z"
    },
    "papermill": {
     "duration": 0.042477,
     "end_time": "2023-01-28T11:09:05.718525",
     "exception": false,
     "start_time": "2023-01-28T11:09:05.676048",
     "status": "completed"
    },
    "tags": []
   },
   "outputs": [
    {
     "data": {
      "text/html": [
       "<div>\n",
       "<style scoped>\n",
       "    .dataframe tbody tr th:only-of-type {\n",
       "        vertical-align: middle;\n",
       "    }\n",
       "\n",
       "    .dataframe tbody tr th {\n",
       "        vertical-align: top;\n",
       "    }\n",
       "\n",
       "    .dataframe thead th {\n",
       "        text-align: right;\n",
       "    }\n",
       "</style>\n",
       "<table border=\"1\" class=\"dataframe\">\n",
       "  <thead>\n",
       "    <tr style=\"text-align: right;\">\n",
       "      <th></th>\n",
       "      <th>team1</th>\n",
       "      <th>team2</th>\n",
       "      <th>on target attempts team2</th>\n",
       "      <th>on target attempts team2</th>\n",
       "      <th>off target attempts team1</th>\n",
       "      <th>off target attempts team2</th>\n",
       "    </tr>\n",
       "  </thead>\n",
       "  <tbody>\n",
       "    <tr>\n",
       "      <th>0</th>\n",
       "      <td>QATAR</td>\n",
       "      <td>ECUADOR</td>\n",
       "      <td>3</td>\n",
       "      <td>3</td>\n",
       "      <td>5</td>\n",
       "      <td>3</td>\n",
       "    </tr>\n",
       "    <tr>\n",
       "      <th>1</th>\n",
       "      <td>ENGLAND</td>\n",
       "      <td>IRAN</td>\n",
       "      <td>3</td>\n",
       "      <td>3</td>\n",
       "      <td>3</td>\n",
       "      <td>4</td>\n",
       "    </tr>\n",
       "    <tr>\n",
       "      <th>2</th>\n",
       "      <td>SENEGAL</td>\n",
       "      <td>NETHERLANDS</td>\n",
       "      <td>3</td>\n",
       "      <td>3</td>\n",
       "      <td>8</td>\n",
       "      <td>5</td>\n",
       "    </tr>\n",
       "    <tr>\n",
       "      <th>3</th>\n",
       "      <td>UNITED STATES</td>\n",
       "      <td>WALES</td>\n",
       "      <td>3</td>\n",
       "      <td>3</td>\n",
       "      <td>4</td>\n",
       "      <td>3</td>\n",
       "    </tr>\n",
       "    <tr>\n",
       "      <th>4</th>\n",
       "      <td>ARGENTINA</td>\n",
       "      <td>SAUDI ARABIA</td>\n",
       "      <td>2</td>\n",
       "      <td>2</td>\n",
       "      <td>5</td>\n",
       "      <td>0</td>\n",
       "    </tr>\n",
       "    <tr>\n",
       "      <th>...</th>\n",
       "      <td>...</td>\n",
       "      <td>...</td>\n",
       "      <td>...</td>\n",
       "      <td>...</td>\n",
       "      <td>...</td>\n",
       "      <td>...</td>\n",
       "    </tr>\n",
       "    <tr>\n",
       "      <th>59</th>\n",
       "      <td>ENGLAND</td>\n",
       "      <td>FRANCE</td>\n",
       "      <td>5</td>\n",
       "      <td>5</td>\n",
       "      <td>4</td>\n",
       "      <td>3</td>\n",
       "    </tr>\n",
       "    <tr>\n",
       "      <th>60</th>\n",
       "      <td>ARGENTINA</td>\n",
       "      <td>CROATIA</td>\n",
       "      <td>3</td>\n",
       "      <td>3</td>\n",
       "      <td>2</td>\n",
       "      <td>7</td>\n",
       "    </tr>\n",
       "    <tr>\n",
       "      <th>61</th>\n",
       "      <td>FRANCE</td>\n",
       "      <td>MOROCCO</td>\n",
       "      <td>1</td>\n",
       "      <td>1</td>\n",
       "      <td>8</td>\n",
       "      <td>6</td>\n",
       "    </tr>\n",
       "    <tr>\n",
       "      <th>62</th>\n",
       "      <td>CROATIA</td>\n",
       "      <td>MOROCCO</td>\n",
       "      <td>2</td>\n",
       "      <td>2</td>\n",
       "      <td>8</td>\n",
       "      <td>5</td>\n",
       "    </tr>\n",
       "    <tr>\n",
       "      <th>63</th>\n",
       "      <td>ARGENTINA</td>\n",
       "      <td>FRANCE</td>\n",
       "      <td>5</td>\n",
       "      <td>5</td>\n",
       "      <td>9</td>\n",
       "      <td>3</td>\n",
       "    </tr>\n",
       "  </tbody>\n",
       "</table>\n",
       "<p>64 rows × 6 columns</p>\n",
       "</div>"
      ],
      "text/plain": [
       "            team1         team2  on target attempts team2  \\\n",
       "0           QATAR       ECUADOR                         3   \n",
       "1         ENGLAND          IRAN                         3   \n",
       "2         SENEGAL   NETHERLANDS                         3   \n",
       "3   UNITED STATES         WALES                         3   \n",
       "4       ARGENTINA  SAUDI ARABIA                         2   \n",
       "..            ...           ...                       ...   \n",
       "59        ENGLAND        FRANCE                         5   \n",
       "60      ARGENTINA       CROATIA                         3   \n",
       "61         FRANCE       MOROCCO                         1   \n",
       "62        CROATIA       MOROCCO                         2   \n",
       "63      ARGENTINA        FRANCE                         5   \n",
       "\n",
       "    on target attempts team2  off target attempts team1  \\\n",
       "0                          3                          5   \n",
       "1                          3                          3   \n",
       "2                          3                          8   \n",
       "3                          3                          4   \n",
       "4                          2                          5   \n",
       "..                       ...                        ...   \n",
       "59                         5                          4   \n",
       "60                         3                          2   \n",
       "61                         1                          8   \n",
       "62                         2                          8   \n",
       "63                         5                          9   \n",
       "\n",
       "    off target attempts team2  \n",
       "0                           3  \n",
       "1                           4  \n",
       "2                           5  \n",
       "3                           3  \n",
       "4                           0  \n",
       "..                        ...  \n",
       "59                          3  \n",
       "60                          7  \n",
       "61                          6  \n",
       "62                          5  \n",
       "63                          3  \n",
       "\n",
       "[64 rows x 6 columns]"
      ]
     },
     "execution_count": 31,
     "metadata": {},
     "output_type": "execute_result"
    }
   ],
   "source": [
    "df[['team1', 'team2','on target attempts team2', 'on target attempts team2',\n",
    "       'off target attempts team1', 'off target attempts team2']]"
   ]
  },
  {
   "cell_type": "markdown",
   "id": "77754747",
   "metadata": {
    "papermill": {
     "duration": 0.017545,
     "end_time": "2023-01-28T11:09:05.754337",
     "exception": false,
     "start_time": "2023-01-28T11:09:05.736792",
     "status": "completed"
    },
    "tags": []
   },
   "source": [
    "## The average of ‘on target attempts’ for each team"
   ]
  },
  {
   "cell_type": "code",
   "execution_count": 32,
   "id": "1221605c",
   "metadata": {
    "execution": {
     "iopub.execute_input": "2023-01-28T11:09:05.793376Z",
     "iopub.status.busy": "2023-01-28T11:09:05.792876Z",
     "iopub.status.idle": "2023-01-28T11:09:05.804761Z",
     "shell.execute_reply": "2023-01-28T11:09:05.803390Z"
    },
    "papermill": {
     "duration": 0.034445,
     "end_time": "2023-01-28T11:09:05.807365",
     "exception": false,
     "start_time": "2023-01-28T11:09:05.772920",
     "status": "completed"
    },
    "tags": []
   },
   "outputs": [
    {
     "data": {
      "text/plain": [
       "team1\n",
       "ARGENTINA         5.800000\n",
       "AUSTRALIA         4.000000\n",
       "BELGIUM           3.500000\n",
       "BRAZIL            8.000000\n",
       "CAMEROON          5.500000\n",
       "CANADA            0.000000\n",
       "COSTA RICA        6.000000\n",
       "CROATIA           4.750000\n",
       "DENMARK           4.000000\n",
       "ECUADOR           4.000000\n",
       "ENGLAND           5.000000\n",
       "FRANCE            5.500000\n",
       "GERMANY           9.000000\n",
       "GHANA             4.000000\n",
       "IRAN              2.000000\n",
       "JAPAN             3.333333\n",
       "KOREA REPUBLIC    6.000000\n",
       "MEXICO            4.000000\n",
       "MOROCCO           2.666667\n",
       "NETHERLANDS       3.250000\n",
       "POLAND            1.500000\n",
       "PORTUGAL          6.000000\n",
       "QATAR             1.000000\n",
       "SAUDI ARABIA      2.000000\n",
       "SENEGAL           3.000000\n",
       "SERBIA            4.000000\n",
       "SPAIN             5.000000\n",
       "SWITZERLAND       3.000000\n",
       "TUNISIA           3.500000\n",
       "UNITED STATES     1.000000\n",
       "URUGUAY           0.000000\n",
       "WALES             2.000000\n",
       "Name: on target attempts team1, dtype: float64"
      ]
     },
     "execution_count": 32,
     "metadata": {},
     "output_type": "execute_result"
    }
   ],
   "source": [
    "attempts_on_1=df.groupby('team1')['on target attempts team1'].mean()\n",
    "attempts_on_1"
   ]
  },
  {
   "cell_type": "code",
   "execution_count": 33,
   "id": "bc24750c",
   "metadata": {
    "execution": {
     "iopub.execute_input": "2023-01-28T11:09:05.845217Z",
     "iopub.status.busy": "2023-01-28T11:09:05.844734Z",
     "iopub.status.idle": "2023-01-28T11:09:05.854855Z",
     "shell.execute_reply": "2023-01-28T11:09:05.854031Z"
    },
    "papermill": {
     "duration": 0.032141,
     "end_time": "2023-01-28T11:09:05.857543",
     "exception": false,
     "start_time": "2023-01-28T11:09:05.825402",
     "status": "completed"
    },
    "tags": []
   },
   "outputs": [
    {
     "data": {
      "text/plain": [
       "team2\n",
       "ARGENTINA         9.500000\n",
       "AUSTRALIA         1.666667\n",
       "BELGIUM           4.000000\n",
       "BRAZIL            8.500000\n",
       "CAMEROON          3.000000\n",
       "CANADA            3.000000\n",
       "COSTA RICA        0.500000\n",
       "CROATIA           3.000000\n",
       "DENMARK           2.500000\n",
       "ECUADOR           4.000000\n",
       "ENGLAND           7.000000\n",
       "FRANCE            4.333333\n",
       "GERMANY           7.500000\n",
       "GHANA             3.000000\n",
       "IRAN              4.500000\n",
       "JAPAN             3.000000\n",
       "KOREA REPUBLIC    3.000000\n",
       "MEXICO            5.500000\n",
       "MOROCCO           2.250000\n",
       "NETHERLANDS       3.000000\n",
       "POLAND            2.000000\n",
       "PORTUGAL          3.500000\n",
       "QATAR             4.000000\n",
       "SAUDI ARABIA      3.500000\n",
       "SENEGAL           3.666667\n",
       "SERBIA            3.000000\n",
       "SPAIN             3.000000\n",
       "SWITZERLAND       2.666667\n",
       "TUNISIA           1.000000\n",
       "UNITED STATES     4.666667\n",
       "URUGUAY           5.000000\n",
       "WALES             3.000000\n",
       "Name: on target attempts team2, dtype: float64"
      ]
     },
     "execution_count": 33,
     "metadata": {},
     "output_type": "execute_result"
    }
   ],
   "source": [
    "attempts_on_2=df.groupby('team2')['on target attempts team2'].mean()\n",
    "attempts_on_2"
   ]
  },
  {
   "cell_type": "code",
   "execution_count": 34,
   "id": "a92fe7ad",
   "metadata": {
    "execution": {
     "iopub.execute_input": "2023-01-28T11:09:05.897427Z",
     "iopub.status.busy": "2023-01-28T11:09:05.896126Z",
     "iopub.status.idle": "2023-01-28T11:09:05.907442Z",
     "shell.execute_reply": "2023-01-28T11:09:05.906198Z"
    },
    "papermill": {
     "duration": 0.033719,
     "end_time": "2023-01-28T11:09:05.910005",
     "exception": false,
     "start_time": "2023-01-28T11:09:05.876286",
     "status": "completed"
    },
    "tags": []
   },
   "outputs": [
    {
     "data": {
      "text/plain": [
       "team1\n",
       "ARGENTINA         7.650000\n",
       "AUSTRALIA         2.833333\n",
       "BELGIUM           3.750000\n",
       "BRAZIL            8.250000\n",
       "CAMEROON          4.250000\n",
       "CANADA            1.500000\n",
       "COSTA RICA        3.250000\n",
       "CROATIA           3.875000\n",
       "DENMARK           3.250000\n",
       "ECUADOR           4.000000\n",
       "ENGLAND           6.000000\n",
       "FRANCE            4.916667\n",
       "GERMANY           8.250000\n",
       "GHANA             3.500000\n",
       "IRAN              3.250000\n",
       "JAPAN             3.166667\n",
       "KOREA REPUBLIC    4.500000\n",
       "MEXICO            4.750000\n",
       "MOROCCO           2.458333\n",
       "NETHERLANDS       3.125000\n",
       "POLAND            1.750000\n",
       "PORTUGAL          4.750000\n",
       "QATAR             2.500000\n",
       "SAUDI ARABIA      2.750000\n",
       "SENEGAL           3.333333\n",
       "SERBIA            3.500000\n",
       "SPAIN             4.000000\n",
       "SWITZERLAND       2.833333\n",
       "TUNISIA           2.250000\n",
       "UNITED STATES     2.833333\n",
       "URUGUAY           2.500000\n",
       "WALES             2.500000\n",
       "dtype: float64"
      ]
     },
     "execution_count": 34,
     "metadata": {},
     "output_type": "execute_result"
    }
   ],
   "source": [
    "Avg_attempts_on_target=(attempts_on_1+attempts_on_2)/2\n",
    "Avg_attempts_on_target"
   ]
  },
  {
   "cell_type": "markdown",
   "id": "2f0c15f0",
   "metadata": {
    "papermill": {
     "duration": 0.017958,
     "end_time": "2023-01-28T11:09:05.946182",
     "exception": false,
     "start_time": "2023-01-28T11:09:05.928224",
     "status": "completed"
    },
    "tags": []
   },
   "source": [
    "## The average of ‘off target attempts’ for each team"
   ]
  },
  {
   "cell_type": "code",
   "execution_count": 35,
   "id": "e8427809",
   "metadata": {
    "execution": {
     "iopub.execute_input": "2023-01-28T11:09:05.985197Z",
     "iopub.status.busy": "2023-01-28T11:09:05.984241Z",
     "iopub.status.idle": "2023-01-28T11:09:05.996249Z",
     "shell.execute_reply": "2023-01-28T11:09:05.994992Z"
    },
    "papermill": {
     "duration": 0.034566,
     "end_time": "2023-01-28T11:09:05.999097",
     "exception": false,
     "start_time": "2023-01-28T11:09:05.964531",
     "status": "completed"
    },
    "tags": []
   },
   "outputs": [
    {
     "data": {
      "text/plain": [
       "team1\n",
       "ARGENTINA          5.200000\n",
       "AUSTRALIA          2.000000\n",
       "BELGIUM            6.000000\n",
       "BRAZIL             6.333333\n",
       "CAMEROON           3.000000\n",
       "CANADA             4.000000\n",
       "COSTA RICA         1.000000\n",
       "CROATIA            4.750000\n",
       "DENMARK            4.000000\n",
       "ECUADOR            3.000000\n",
       "ENGLAND            3.750000\n",
       "FRANCE             8.000000\n",
       "GERMANY           11.000000\n",
       "GHANA              4.000000\n",
       "IRAN               4.000000\n",
       "JAPAN              3.333333\n",
       "KOREA REPUBLIC     6.000000\n",
       "MEXICO             5.000000\n",
       "MOROCCO            3.000000\n",
       "NETHERLANDS        3.000000\n",
       "POLAND             2.500000\n",
       "PORTUGAL           4.000000\n",
       "QATAR              6.000000\n",
       "SAUDI ARABIA       8.000000\n",
       "SENEGAL            8.000000\n",
       "SERBIA             6.000000\n",
       "SPAIN              6.000000\n",
       "SWITZERLAND        4.000000\n",
       "TUNISIA            3.500000\n",
       "UNITED STATES      4.000000\n",
       "URUGUAY            6.000000\n",
       "WALES              3.500000\n",
       "Name: off target attempts team1, dtype: float64"
      ]
     },
     "execution_count": 35,
     "metadata": {},
     "output_type": "execute_result"
    }
   ],
   "source": [
    "attempts_off_1=df.groupby('team1')['off target attempts team1'].mean()\n",
    "attempts_off_1"
   ]
  },
  {
   "cell_type": "code",
   "execution_count": 36,
   "id": "96a9871d",
   "metadata": {
    "execution": {
     "iopub.execute_input": "2023-01-28T11:09:06.038997Z",
     "iopub.status.busy": "2023-01-28T11:09:06.038150Z",
     "iopub.status.idle": "2023-01-28T11:09:06.050313Z",
     "shell.execute_reply": "2023-01-28T11:09:06.049015Z"
    },
    "papermill": {
     "duration": 0.035148,
     "end_time": "2023-01-28T11:09:06.053103",
     "exception": false,
     "start_time": "2023-01-28T11:09:06.017955",
     "status": "completed"
    },
    "tags": []
   },
   "outputs": [
    {
     "data": {
      "text/plain": [
       "team2\n",
       "ARGENTINA          8.000000\n",
       "AUSTRALIA          2.666667\n",
       "BELGIUM            7.000000\n",
       "BRAZIL             7.500000\n",
       "CAMEROON           2.000000\n",
       "CANADA             7.500000\n",
       "COSTA RICA         0.500000\n",
       "CROATIA            5.666667\n",
       "DENMARK            6.500000\n",
       "ECUADOR            3.000000\n",
       "ENGLAND            6.000000\n",
       "FRANCE             3.333333\n",
       "GERMANY           11.000000\n",
       "GHANA              4.000000\n",
       "IRAN               5.000000\n",
       "JAPAN              6.000000\n",
       "KOREA REPUBLIC     3.500000\n",
       "MEXICO             5.000000\n",
       "MOROCCO            4.750000\n",
       "NETHERLANDS        5.000000\n",
       "POLAND             4.500000\n",
       "PORTUGAL           6.000000\n",
       "QATAR              2.000000\n",
       "SAUDI ARABIA       4.500000\n",
       "SENEGAL            6.666667\n",
       "SERBIA             5.500000\n",
       "SPAIN              4.500000\n",
       "SWITZERLAND        3.666667\n",
       "TUNISIA            7.000000\n",
       "UNITED STATES      5.000000\n",
       "URUGUAY            5.500000\n",
       "WALES              3.000000\n",
       "Name: off target attempts team2, dtype: float64"
      ]
     },
     "execution_count": 36,
     "metadata": {},
     "output_type": "execute_result"
    }
   ],
   "source": [
    "attempts_off_2=df.groupby('team2')['off target attempts team2'].mean()\n",
    "attempts_off_2"
   ]
  },
  {
   "cell_type": "code",
   "execution_count": 37,
   "id": "df37dd8c",
   "metadata": {
    "execution": {
     "iopub.execute_input": "2023-01-28T11:09:06.093453Z",
     "iopub.status.busy": "2023-01-28T11:09:06.092965Z",
     "iopub.status.idle": "2023-01-28T11:09:06.103306Z",
     "shell.execute_reply": "2023-01-28T11:09:06.101850Z"
    },
    "papermill": {
     "duration": 0.033903,
     "end_time": "2023-01-28T11:09:06.105956",
     "exception": false,
     "start_time": "2023-01-28T11:09:06.072053",
     "status": "completed"
    },
    "tags": []
   },
   "outputs": [
    {
     "data": {
      "text/plain": [
       "team1\n",
       "ARGENTINA          6.600000\n",
       "AUSTRALIA          2.333333\n",
       "BELGIUM            6.500000\n",
       "BRAZIL             6.916667\n",
       "CAMEROON           2.500000\n",
       "CANADA             5.750000\n",
       "COSTA RICA         0.750000\n",
       "CROATIA            5.208333\n",
       "DENMARK            5.250000\n",
       "ECUADOR            3.000000\n",
       "ENGLAND            4.875000\n",
       "FRANCE             5.666667\n",
       "GERMANY           11.000000\n",
       "GHANA              4.000000\n",
       "IRAN               4.500000\n",
       "JAPAN              4.666667\n",
       "KOREA REPUBLIC     4.750000\n",
       "MEXICO             5.000000\n",
       "MOROCCO            3.875000\n",
       "NETHERLANDS        4.000000\n",
       "POLAND             3.500000\n",
       "PORTUGAL           5.000000\n",
       "QATAR              4.000000\n",
       "SAUDI ARABIA       6.250000\n",
       "SENEGAL            7.333333\n",
       "SERBIA             5.750000\n",
       "SPAIN              5.250000\n",
       "SWITZERLAND        3.833333\n",
       "TUNISIA            5.250000\n",
       "UNITED STATES      4.500000\n",
       "URUGUAY            5.750000\n",
       "WALES              3.250000\n",
       "dtype: float64"
      ]
     },
     "execution_count": 37,
     "metadata": {},
     "output_type": "execute_result"
    }
   ],
   "source": [
    "Avg_attempts_off_target=(attempts_off_1+attempts_off_2)/2\n",
    "Avg_attempts_off_target"
   ]
  },
  {
   "cell_type": "code",
   "execution_count": 38,
   "id": "0dc8f383",
   "metadata": {
    "execution": {
     "iopub.execute_input": "2023-01-28T11:09:06.145871Z",
     "iopub.status.busy": "2023-01-28T11:09:06.145095Z",
     "iopub.status.idle": "2023-01-28T11:09:06.160448Z",
     "shell.execute_reply": "2023-01-28T11:09:06.159236Z"
    },
    "papermill": {
     "duration": 0.038065,
     "end_time": "2023-01-28T11:09:06.162959",
     "exception": false,
     "start_time": "2023-01-28T11:09:06.124894",
     "status": "completed"
    },
    "tags": []
   },
   "outputs": [
    {
     "data": {
      "text/html": [
       "<div>\n",
       "<style scoped>\n",
       "    .dataframe tbody tr th:only-of-type {\n",
       "        vertical-align: middle;\n",
       "    }\n",
       "\n",
       "    .dataframe tbody tr th {\n",
       "        vertical-align: top;\n",
       "    }\n",
       "\n",
       "    .dataframe thead th {\n",
       "        text-align: right;\n",
       "    }\n",
       "</style>\n",
       "<table border=\"1\" class=\"dataframe\">\n",
       "  <thead>\n",
       "    <tr style=\"text-align: right;\">\n",
       "      <th></th>\n",
       "      <th>attempts inside the penalty area team1</th>\n",
       "      <th>attempts inside the penalty area  team2</th>\n",
       "      <th>attempts outside the penalty area  team1</th>\n",
       "      <th>attempts outside the penalty area  team2</th>\n",
       "    </tr>\n",
       "  </thead>\n",
       "  <tbody>\n",
       "    <tr>\n",
       "      <th>0</th>\n",
       "      <td>2</td>\n",
       "      <td>4</td>\n",
       "      <td>3</td>\n",
       "      <td>2</td>\n",
       "    </tr>\n",
       "    <tr>\n",
       "      <th>1</th>\n",
       "      <td>10</td>\n",
       "      <td>6</td>\n",
       "      <td>3</td>\n",
       "      <td>2</td>\n",
       "    </tr>\n",
       "    <tr>\n",
       "      <th>2</th>\n",
       "      <td>7</td>\n",
       "      <td>5</td>\n",
       "      <td>7</td>\n",
       "      <td>4</td>\n",
       "    </tr>\n",
       "    <tr>\n",
       "      <th>3</th>\n",
       "      <td>4</td>\n",
       "      <td>5</td>\n",
       "      <td>2</td>\n",
       "      <td>2</td>\n",
       "    </tr>\n",
       "    <tr>\n",
       "      <th>4</th>\n",
       "      <td>10</td>\n",
       "      <td>3</td>\n",
       "      <td>4</td>\n",
       "      <td>0</td>\n",
       "    </tr>\n",
       "    <tr>\n",
       "      <th>...</th>\n",
       "      <td>...</td>\n",
       "      <td>...</td>\n",
       "      <td>...</td>\n",
       "      <td>...</td>\n",
       "    </tr>\n",
       "    <tr>\n",
       "      <th>59</th>\n",
       "      <td>6</td>\n",
       "      <td>6</td>\n",
       "      <td>8</td>\n",
       "      <td>3</td>\n",
       "    </tr>\n",
       "    <tr>\n",
       "      <th>60</th>\n",
       "      <td>7</td>\n",
       "      <td>6</td>\n",
       "      <td>3</td>\n",
       "      <td>6</td>\n",
       "    </tr>\n",
       "    <tr>\n",
       "      <th>61</th>\n",
       "      <td>12</td>\n",
       "      <td>8</td>\n",
       "      <td>2</td>\n",
       "      <td>5</td>\n",
       "    </tr>\n",
       "    <tr>\n",
       "      <th>62</th>\n",
       "      <td>7</td>\n",
       "      <td>5</td>\n",
       "      <td>7</td>\n",
       "      <td>2</td>\n",
       "    </tr>\n",
       "    <tr>\n",
       "      <th>63</th>\n",
       "      <td>10</td>\n",
       "      <td>7</td>\n",
       "      <td>11</td>\n",
       "      <td>3</td>\n",
       "    </tr>\n",
       "  </tbody>\n",
       "</table>\n",
       "<p>64 rows × 4 columns</p>\n",
       "</div>"
      ],
      "text/plain": [
       "    attempts inside the penalty area team1  \\\n",
       "0                                        2   \n",
       "1                                       10   \n",
       "2                                        7   \n",
       "3                                        4   \n",
       "4                                       10   \n",
       "..                                     ...   \n",
       "59                                       6   \n",
       "60                                       7   \n",
       "61                                      12   \n",
       "62                                       7   \n",
       "63                                      10   \n",
       "\n",
       "    attempts inside the penalty area  team2  \\\n",
       "0                                         4   \n",
       "1                                         6   \n",
       "2                                         5   \n",
       "3                                         5   \n",
       "4                                         3   \n",
       "..                                      ...   \n",
       "59                                        6   \n",
       "60                                        6   \n",
       "61                                        8   \n",
       "62                                        5   \n",
       "63                                        7   \n",
       "\n",
       "    attempts outside the penalty area  team1  \\\n",
       "0                                          3   \n",
       "1                                          3   \n",
       "2                                          7   \n",
       "3                                          2   \n",
       "4                                          4   \n",
       "..                                       ...   \n",
       "59                                         8   \n",
       "60                                         3   \n",
       "61                                         2   \n",
       "62                                         7   \n",
       "63                                        11   \n",
       "\n",
       "    attempts outside the penalty area  team2  \n",
       "0                                          2  \n",
       "1                                          2  \n",
       "2                                          4  \n",
       "3                                          2  \n",
       "4                                          0  \n",
       "..                                       ...  \n",
       "59                                         3  \n",
       "60                                         6  \n",
       "61                                         5  \n",
       "62                                         2  \n",
       "63                                         3  \n",
       "\n",
       "[64 rows x 4 columns]"
      ]
     },
     "execution_count": 38,
     "metadata": {},
     "output_type": "execute_result"
    }
   ],
   "source": [
    "df[['attempts inside the penalty area team1','attempts inside the penalty area  team2',\n",
    "    'attempts outside the penalty area  team1','attempts outside the penalty area  team2']]"
   ]
  },
  {
   "cell_type": "markdown",
   "id": "8990d1bb",
   "metadata": {
    "papermill": {
     "duration": 0.018384,
     "end_time": "2023-01-28T11:09:06.200829",
     "exception": false,
     "start_time": "2023-01-28T11:09:06.182445",
     "status": "completed"
    },
    "tags": []
   },
   "source": [
    "## The average of ‘attempts inside the penalty area ’ for each team"
   ]
  },
  {
   "cell_type": "code",
   "execution_count": 39,
   "id": "fd20152f",
   "metadata": {
    "execution": {
     "iopub.execute_input": "2023-01-28T11:09:06.242104Z",
     "iopub.status.busy": "2023-01-28T11:09:06.241635Z",
     "iopub.status.idle": "2023-01-28T11:09:06.253145Z",
     "shell.execute_reply": "2023-01-28T11:09:06.251961Z"
    },
    "papermill": {
     "duration": 0.036037,
     "end_time": "2023-01-28T11:09:06.255717",
     "exception": false,
     "start_time": "2023-01-28T11:09:06.219680",
     "status": "completed"
    },
    "tags": []
   },
   "outputs": [
    {
     "data": {
      "text/plain": [
       "team1\n",
       "ARGENTINA          8.000000\n",
       "AUSTRALIA          3.000000\n",
       "BELGIUM            5.500000\n",
       "BRAZIL            10.333333\n",
       "CAMEROON           7.000000\n",
       "CANADA             4.000000\n",
       "COSTA RICA         6.000000\n",
       "CROATIA            7.000000\n",
       "DENMARK            7.000000\n",
       "ECUADOR            5.000000\n",
       "ENGLAND            7.250000\n",
       "FRANCE            14.000000\n",
       "GERMANY           15.000000\n",
       "GHANA              4.000000\n",
       "IRAN               5.000000\n",
       "JAPAN              5.333333\n",
       "KOREA REPUBLIC    10.500000\n",
       "MEXICO            10.000000\n",
       "MOROCCO            3.666667\n",
       "NETHERLANDS        5.000000\n",
       "POLAND             5.000000\n",
       "PORTUGAL           6.666667\n",
       "QATAR              3.000000\n",
       "SAUDI ARABIA       6.000000\n",
       "SENEGAL            7.000000\n",
       "SERBIA            10.000000\n",
       "SPAIN              7.500000\n",
       "SWITZERLAND        6.000000\n",
       "TUNISIA            5.500000\n",
       "UNITED STATES      4.000000\n",
       "URUGUAY            7.000000\n",
       "WALES              3.000000\n",
       "Name: attempts inside the penalty area team1, dtype: float64"
      ]
     },
     "execution_count": 39,
     "metadata": {},
     "output_type": "execute_result"
    }
   ],
   "source": [
    "attempts_inside_1=df.groupby('team1')['attempts inside the penalty area team1'].mean()\n",
    "attempts_inside_1"
   ]
  },
  {
   "cell_type": "code",
   "execution_count": 40,
   "id": "ddfebf52",
   "metadata": {
    "execution": {
     "iopub.execute_input": "2023-01-28T11:09:06.297024Z",
     "iopub.status.busy": "2023-01-28T11:09:06.296529Z",
     "iopub.status.idle": "2023-01-28T11:09:06.307603Z",
     "shell.execute_reply": "2023-01-28T11:09:06.306694Z"
    },
    "papermill": {
     "duration": 0.034937,
     "end_time": "2023-01-28T11:09:06.310074",
     "exception": false,
     "start_time": "2023-01-28T11:09:06.275137",
     "status": "completed"
    },
    "tags": []
   },
   "outputs": [
    {
     "data": {
      "text/plain": [
       "team2\n",
       "ARGENTINA         13.000000\n",
       "AUSTRALIA          3.333333\n",
       "BELGIUM           12.000000\n",
       "BRAZIL            13.000000\n",
       "CAMEROON           6.000000\n",
       "CANADA             9.000000\n",
       "COSTA RICA         0.500000\n",
       "CROATIA            6.333333\n",
       "DENMARK            8.000000\n",
       "ECUADOR            6.000000\n",
       "ENGLAND           13.000000\n",
       "FRANCE             5.666667\n",
       "GERMANY           15.500000\n",
       "GHANA              4.500000\n",
       "IRAN               6.500000\n",
       "JAPAN             10.000000\n",
       "KOREA REPUBLIC     3.500000\n",
       "MEXICO             5.500000\n",
       "MOROCCO            5.750000\n",
       "NETHERLANDS        5.000000\n",
       "POLAND             7.500000\n",
       "PORTUGAL           6.000000\n",
       "QATAR              2.000000\n",
       "SAUDI ARABIA       6.000000\n",
       "SENEGAL            8.333333\n",
       "SERBIA             6.000000\n",
       "SPAIN              8.000000\n",
       "SWITZERLAND        5.666667\n",
       "TUNISIA            6.000000\n",
       "UNITED STATES      8.333333\n",
       "URUGUAY            6.500000\n",
       "WALES              5.000000\n",
       "Name: attempts inside the penalty area  team2, dtype: float64"
      ]
     },
     "execution_count": 40,
     "metadata": {},
     "output_type": "execute_result"
    }
   ],
   "source": [
    "attempts_inside_2=df.groupby('team2')['attempts inside the penalty area  team2'].mean()\n",
    "attempts_inside_2"
   ]
  },
  {
   "cell_type": "code",
   "execution_count": 41,
   "id": "3862357b",
   "metadata": {
    "execution": {
     "iopub.execute_input": "2023-01-28T11:09:06.350934Z",
     "iopub.status.busy": "2023-01-28T11:09:06.350404Z",
     "iopub.status.idle": "2023-01-28T11:09:06.361642Z",
     "shell.execute_reply": "2023-01-28T11:09:06.360439Z"
    },
    "papermill": {
     "duration": 0.034428,
     "end_time": "2023-01-28T11:09:06.364038",
     "exception": false,
     "start_time": "2023-01-28T11:09:06.329610",
     "status": "completed"
    },
    "tags": []
   },
   "outputs": [
    {
     "data": {
      "text/plain": [
       "team1\n",
       "ARGENTINA         10.500000\n",
       "AUSTRALIA          3.166667\n",
       "BELGIUM            8.750000\n",
       "BRAZIL            11.666667\n",
       "CAMEROON           6.500000\n",
       "CANADA             6.500000\n",
       "COSTA RICA         3.250000\n",
       "CROATIA            6.666667\n",
       "DENMARK            7.500000\n",
       "ECUADOR            5.500000\n",
       "ENGLAND           10.125000\n",
       "FRANCE             9.833333\n",
       "GERMANY           15.250000\n",
       "GHANA              4.250000\n",
       "IRAN               5.750000\n",
       "JAPAN              7.666667\n",
       "KOREA REPUBLIC     7.000000\n",
       "MEXICO             7.750000\n",
       "MOROCCO            4.708333\n",
       "NETHERLANDS        5.000000\n",
       "POLAND             6.250000\n",
       "PORTUGAL           6.333333\n",
       "QATAR              2.500000\n",
       "SAUDI ARABIA       6.000000\n",
       "SENEGAL            7.666667\n",
       "SERBIA             8.000000\n",
       "SPAIN              7.750000\n",
       "SWITZERLAND        5.833333\n",
       "TUNISIA            5.750000\n",
       "UNITED STATES      6.166667\n",
       "URUGUAY            6.750000\n",
       "WALES              4.000000\n",
       "dtype: float64"
      ]
     },
     "execution_count": 41,
     "metadata": {},
     "output_type": "execute_result"
    }
   ],
   "source": [
    "Avg_attempts_inside_penalty_area=(attempts_inside_1+attempts_inside_2)/2\n",
    "Avg_attempts_inside_penalty_area"
   ]
  },
  {
   "cell_type": "code",
   "execution_count": null,
   "id": "e7b88349",
   "metadata": {
    "papermill": {
     "duration": 0.018805,
     "end_time": "2023-01-28T11:09:06.402119",
     "exception": false,
     "start_time": "2023-01-28T11:09:06.383314",
     "status": "completed"
    },
    "tags": []
   },
   "outputs": [],
   "source": []
  },
  {
   "cell_type": "code",
   "execution_count": null,
   "id": "4b57aa6d",
   "metadata": {
    "papermill": {
     "duration": 0.019599,
     "end_time": "2023-01-28T11:09:06.441257",
     "exception": false,
     "start_time": "2023-01-28T11:09:06.421658",
     "status": "completed"
    },
    "tags": []
   },
   "outputs": [],
   "source": []
  },
  {
   "cell_type": "markdown",
   "id": "6e51e264",
   "metadata": {
    "papermill": {
     "duration": 0.019382,
     "end_time": "2023-01-28T11:09:06.480341",
     "exception": false,
     "start_time": "2023-01-28T11:09:06.460959",
     "status": "completed"
    },
    "tags": []
   },
   "source": [
    "## The average of ‘attempts outside the penalty area ’ for each team"
   ]
  },
  {
   "cell_type": "code",
   "execution_count": 42,
   "id": "054f8460",
   "metadata": {
    "execution": {
     "iopub.execute_input": "2023-01-28T11:09:06.521727Z",
     "iopub.status.busy": "2023-01-28T11:09:06.521216Z",
     "iopub.status.idle": "2023-01-28T11:09:06.532875Z",
     "shell.execute_reply": "2023-01-28T11:09:06.531631Z"
    },
    "papermill": {
     "duration": 0.035245,
     "end_time": "2023-01-28T11:09:06.535370",
     "exception": false,
     "start_time": "2023-01-28T11:09:06.500125",
     "status": "completed"
    },
    "tags": []
   },
   "outputs": [
    {
     "data": {
      "text/plain": [
       "team1\n",
       "ARGENTINA          4.800000\n",
       "AUSTRALIA          5.000000\n",
       "BELGIUM            4.000000\n",
       "BRAZIL             6.666667\n",
       "CAMEROON           3.000000\n",
       "CANADA             1.000000\n",
       "COSTA RICA         2.000000\n",
       "CROATIA            4.750000\n",
       "DENMARK            4.000000\n",
       "ECUADOR            3.000000\n",
       "ENGLAND            3.500000\n",
       "FRANCE             4.250000\n",
       "GERMANY           10.000000\n",
       "GHANA              5.000000\n",
       "IRAN               1.000000\n",
       "JAPAN              5.333333\n",
       "KOREA REPUBLIC     6.000000\n",
       "MEXICO             3.000000\n",
       "MOROCCO            4.000000\n",
       "NETHERLANDS        2.750000\n",
       "POLAND             1.000000\n",
       "PORTUGAL           6.333333\n",
       "QATAR              4.500000\n",
       "SAUDI ARABIA       4.000000\n",
       "SENEGAL            7.000000\n",
       "SERBIA             1.000000\n",
       "SPAIN              4.500000\n",
       "SWITZERLAND        2.000000\n",
       "TUNISIA            3.500000\n",
       "UNITED STATES      2.000000\n",
       "URUGUAY            3.000000\n",
       "WALES              5.500000\n",
       "Name: attempts outside the penalty area  team1, dtype: float64"
      ]
     },
     "execution_count": 42,
     "metadata": {},
     "output_type": "execute_result"
    }
   ],
   "source": [
    "attempts_outside_1=df.groupby('team1')['attempts outside the penalty area  team1'].mean()\n",
    "attempts_outside_1"
   ]
  },
  {
   "cell_type": "code",
   "execution_count": 43,
   "id": "22bf2988",
   "metadata": {
    "execution": {
     "iopub.execute_input": "2023-01-28T11:09:06.576778Z",
     "iopub.status.busy": "2023-01-28T11:09:06.576229Z",
     "iopub.status.idle": "2023-01-28T11:09:06.588166Z",
     "shell.execute_reply": "2023-01-28T11:09:06.586836Z"
    },
    "papermill": {
     "duration": 0.035885,
     "end_time": "2023-01-28T11:09:06.590912",
     "exception": false,
     "start_time": "2023-01-28T11:09:06.555027",
     "status": "completed"
    },
    "tags": []
   },
   "outputs": [
    {
     "data": {
      "text/plain": [
       "team2\n",
       "ARGENTINA         7.000000\n",
       "AUSTRALIA         2.333333\n",
       "BELGIUM           3.000000\n",
       "BRAZIL            6.500000\n",
       "CAMEROON          1.000000\n",
       "CANADA            6.000000\n",
       "COSTA RICA        1.500000\n",
       "CROATIA           5.000000\n",
       "DENMARK           4.000000\n",
       "ECUADOR           3.500000\n",
       "ENGLAND           4.000000\n",
       "FRANCE            3.666667\n",
       "GERMANY           5.500000\n",
       "GHANA             3.500000\n",
       "IRAN              8.000000\n",
       "JAPAN             0.000000\n",
       "KOREA REPUBLIC    4.500000\n",
       "MEXICO            9.000000\n",
       "MOROCCO           3.750000\n",
       "NETHERLANDS       4.000000\n",
       "POLAND            2.000000\n",
       "PORTUGAL          5.500000\n",
       "QATAR             4.000000\n",
       "SAUDI ARABIA      3.500000\n",
       "SENEGAL           4.000000\n",
       "SERBIA            4.000000\n",
       "SPAIN             5.500000\n",
       "SWITZERLAND       3.666667\n",
       "TUNISIA           5.000000\n",
       "UNITED STATES     5.000000\n",
       "URUGUAY           4.500000\n",
       "WALES             2.000000\n",
       "Name: attempts outside the penalty area  team2, dtype: float64"
      ]
     },
     "execution_count": 43,
     "metadata": {},
     "output_type": "execute_result"
    }
   ],
   "source": [
    "attempts_outside_2=df.groupby('team2')['attempts outside the penalty area  team2'].mean()\n",
    "attempts_outside_2"
   ]
  },
  {
   "cell_type": "code",
   "execution_count": 44,
   "id": "2753834d",
   "metadata": {
    "execution": {
     "iopub.execute_input": "2023-01-28T11:09:06.632508Z",
     "iopub.status.busy": "2023-01-28T11:09:06.632027Z",
     "iopub.status.idle": "2023-01-28T11:09:06.642419Z",
     "shell.execute_reply": "2023-01-28T11:09:06.641275Z"
    },
    "papermill": {
     "duration": 0.034073,
     "end_time": "2023-01-28T11:09:06.644773",
     "exception": false,
     "start_time": "2023-01-28T11:09:06.610700",
     "status": "completed"
    },
    "tags": []
   },
   "outputs": [
    {
     "data": {
      "text/plain": [
       "team1\n",
       "ARGENTINA         5.900000\n",
       "AUSTRALIA         3.666667\n",
       "BELGIUM           3.500000\n",
       "BRAZIL            6.583333\n",
       "CAMEROON          2.000000\n",
       "CANADA            3.500000\n",
       "COSTA RICA        1.750000\n",
       "CROATIA           4.875000\n",
       "DENMARK           4.000000\n",
       "ECUADOR           3.250000\n",
       "ENGLAND           3.750000\n",
       "FRANCE            3.958333\n",
       "GERMANY           7.750000\n",
       "GHANA             4.250000\n",
       "IRAN              4.500000\n",
       "JAPAN             2.666667\n",
       "KOREA REPUBLIC    5.250000\n",
       "MEXICO            6.000000\n",
       "MOROCCO           3.875000\n",
       "NETHERLANDS       3.375000\n",
       "POLAND            1.500000\n",
       "PORTUGAL          5.916667\n",
       "QATAR             4.250000\n",
       "SAUDI ARABIA      3.750000\n",
       "SENEGAL           5.500000\n",
       "SERBIA            2.500000\n",
       "SPAIN             5.000000\n",
       "SWITZERLAND       2.833333\n",
       "TUNISIA           4.250000\n",
       "UNITED STATES     3.500000\n",
       "URUGUAY           3.750000\n",
       "WALES             3.750000\n",
       "dtype: float64"
      ]
     },
     "execution_count": 44,
     "metadata": {},
     "output_type": "execute_result"
    }
   ],
   "source": [
    "Avg_attempts_outside_penalty_area=(attempts_outside_1+attempts_outside_2)/2\n",
    "Avg_attempts_outside_penalty_area"
   ]
  },
  {
   "cell_type": "markdown",
   "id": "e251f60b",
   "metadata": {
    "papermill": {
     "duration": 0.019836,
     "end_time": "2023-01-28T11:09:06.684537",
     "exception": false,
     "start_time": "2023-01-28T11:09:06.664701",
     "status": "completed"
    },
    "tags": []
   },
   "source": [
    "## The report the goals based on ‘category’ "
   ]
  },
  {
   "cell_type": "code",
   "execution_count": 45,
   "id": "92349870",
   "metadata": {
    "execution": {
     "iopub.execute_input": "2023-01-28T11:09:06.726784Z",
     "iopub.status.busy": "2023-01-28T11:09:06.726245Z",
     "iopub.status.idle": "2023-01-28T11:09:06.733149Z",
     "shell.execute_reply": "2023-01-28T11:09:06.731940Z"
    },
    "papermill": {
     "duration": 0.031218,
     "end_time": "2023-01-28T11:09:06.735678",
     "exception": false,
     "start_time": "2023-01-28T11:09:06.704460",
     "status": "completed"
    },
    "tags": []
   },
   "outputs": [],
   "source": [
    "df['goals']=df['number of goals team1']+df['number of goals team2']"
   ]
  },
  {
   "cell_type": "code",
   "execution_count": 46,
   "id": "76faa336",
   "metadata": {
    "execution": {
     "iopub.execute_input": "2023-01-28T11:09:06.777566Z",
     "iopub.status.busy": "2023-01-28T11:09:06.777083Z",
     "iopub.status.idle": "2023-01-28T11:09:06.808578Z",
     "shell.execute_reply": "2023-01-28T11:09:06.807259Z"
    },
    "papermill": {
     "duration": 0.055628,
     "end_time": "2023-01-28T11:09:06.811250",
     "exception": false,
     "start_time": "2023-01-28T11:09:06.755622",
     "status": "completed"
    },
    "tags": []
   },
   "outputs": [
    {
     "data": {
      "text/html": [
       "<div>\n",
       "<style scoped>\n",
       "    .dataframe tbody tr th:only-of-type {\n",
       "        vertical-align: middle;\n",
       "    }\n",
       "\n",
       "    .dataframe tbody tr th {\n",
       "        vertical-align: top;\n",
       "    }\n",
       "\n",
       "    .dataframe thead th {\n",
       "        text-align: right;\n",
       "    }\n",
       "</style>\n",
       "<table border=\"1\" class=\"dataframe\">\n",
       "  <thead>\n",
       "    <tr style=\"text-align: right;\">\n",
       "      <th></th>\n",
       "      <th>goals</th>\n",
       "    </tr>\n",
       "    <tr>\n",
       "      <th>category</th>\n",
       "      <th></th>\n",
       "    </tr>\n",
       "  </thead>\n",
       "  <tbody>\n",
       "    <tr>\n",
       "      <th>Final</th>\n",
       "      <td>6</td>\n",
       "    </tr>\n",
       "    <tr>\n",
       "      <th>Group A</th>\n",
       "      <td>15</td>\n",
       "    </tr>\n",
       "    <tr>\n",
       "      <th>Group B</th>\n",
       "      <td>16</td>\n",
       "    </tr>\n",
       "    <tr>\n",
       "      <th>Group C</th>\n",
       "      <td>12</td>\n",
       "    </tr>\n",
       "    <tr>\n",
       "      <th>Group D</th>\n",
       "      <td>11</td>\n",
       "    </tr>\n",
       "    <tr>\n",
       "      <th>Group E</th>\n",
       "      <td>22</td>\n",
       "    </tr>\n",
       "    <tr>\n",
       "      <th>Group F</th>\n",
       "      <td>11</td>\n",
       "    </tr>\n",
       "    <tr>\n",
       "      <th>Group G</th>\n",
       "      <td>16</td>\n",
       "    </tr>\n",
       "    <tr>\n",
       "      <th>Group H</th>\n",
       "      <td>17</td>\n",
       "    </tr>\n",
       "    <tr>\n",
       "      <th>Play-off for third place</th>\n",
       "      <td>3</td>\n",
       "    </tr>\n",
       "    <tr>\n",
       "      <th>Quarter-final</th>\n",
       "      <td>10</td>\n",
       "    </tr>\n",
       "    <tr>\n",
       "      <th>Round of 16</th>\n",
       "      <td>28</td>\n",
       "    </tr>\n",
       "    <tr>\n",
       "      <th>Semi-final</th>\n",
       "      <td>5</td>\n",
       "    </tr>\n",
       "    <tr>\n",
       "      <th>All</th>\n",
       "      <td>172</td>\n",
       "    </tr>\n",
       "  </tbody>\n",
       "</table>\n",
       "</div>"
      ],
      "text/plain": [
       "                          goals\n",
       "category                       \n",
       "Final                         6\n",
       "Group A                      15\n",
       "Group B                      16\n",
       "Group C                      12\n",
       "Group D                      11\n",
       "Group E                      22\n",
       "Group F                      11\n",
       "Group G                      16\n",
       "Group H                      17\n",
       "Play-off for third place      3\n",
       "Quarter-final                10\n",
       "Round of 16                  28\n",
       "Semi-final                    5\n",
       "All                         172"
      ]
     },
     "execution_count": 46,
     "metadata": {},
     "output_type": "execute_result"
    }
   ],
   "source": [
    "df.pivot_table('goals',index='category',aggfunc='sum',fill_value=0,margins=True)#aggfunc='sum'"
   ]
  }
 ],
 "metadata": {
  "kernelspec": {
   "display_name": "Python 3",
   "language": "python",
   "name": "python3"
  },
  "language_info": {
   "codemirror_mode": {
    "name": "ipython",
    "version": 3
   },
   "file_extension": ".py",
   "mimetype": "text/x-python",
   "name": "python",
   "nbconvert_exporter": "python",
   "pygments_lexer": "ipython3",
   "version": "3.7.12"
  },
  "papermill": {
   "default_parameters": {},
   "duration": 17.318263,
   "end_time": "2023-01-28T11:09:09.795118",
   "environment_variables": {},
   "exception": null,
   "input_path": "__notebook__.ipynb",
   "output_path": "__notebook__.ipynb",
   "parameters": {},
   "start_time": "2023-01-28T11:08:52.476855",
   "version": "2.3.4"
  }
 },
 "nbformat": 4,
 "nbformat_minor": 5
}
